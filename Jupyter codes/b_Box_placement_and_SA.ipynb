{
  "cells": [
    {
      "cell_type": "markdown",
      "metadata": {
        "id": "Fo0vFMBUa8g1"
      },
      "source": [
        "# **Layout Optimization Model for Multi-Recipe and Multi-Route Problems with Application to the Design of a Steel Factory**\n",
        "\n",
        "Simulated annealing procedure with MILP model for the layout of the scrap yard, given a left / right split, to explore the space of possible loading sequences for each grade"
      ]
    },
    {
      "cell_type": "code",
      "execution_count": 1,
      "metadata": {
        "id": "K05cbCO0rdcF"
      },
      "outputs": [],
      "source": [
        "from itertools import permutations, product\n",
        "import random\n",
        "import math"
      ]
    },
    {
      "cell_type": "code",
      "source": [
        "from datetime import datetime"
      ],
      "metadata": {
        "id": "AlD6jEr1M9AQ"
      },
      "execution_count": 2,
      "outputs": []
    },
    {
      "cell_type": "code",
      "execution_count": 3,
      "metadata": {
        "id": "RrmDwB8Nf4rE"
      },
      "outputs": [],
      "source": [
        "import numpy as np\n",
        "import pandas as pd"
      ]
    },
    {
      "cell_type": "code",
      "execution_count": 4,
      "metadata": {
        "id": "w0BpSLKe0Q6n"
      },
      "outputs": [],
      "source": [
        "from IPython.core.magic import register_cell_magic\n",
        "\n",
        "@register_cell_magic\n",
        "def skip(line, cell):\n",
        "    return"
      ]
    },
    {
      "cell_type": "markdown",
      "metadata": {
        "id": "SfIvpc3cipSW"
      },
      "source": [
        "#### DATA"
      ]
    },
    {
      "cell_type": "markdown",
      "metadata": {
        "id": "jWl7JyKGf5sd"
      },
      "source": [
        "##### **Scrapyard data**"
      ]
    },
    {
      "cell_type": "markdown",
      "metadata": {
        "id": "yWFqJarBcerl"
      },
      "source": [
        "Width of the 40m deep box for each scrap type"
      ]
    },
    {
      "cell_type": "code",
      "execution_count": 5,
      "metadata": {
        "id": "-TMmm4Ppf-HL"
      },
      "outputs": [],
      "source": [
        "box_width_dict = {0: 11.4, 1: 10.0, 2: 11.7, 3: 10.0, 4: 10.0, 5: 10.0, 6: 23.4,\n",
        "                  7: 10.0, 8: 34.4, 9: 12.4, 10: 10.0, 11: 10.0, 12: 38.3,\n",
        "                  13: 26.5, 14: 56.9, 15: 43.6, 16: 27.5, 17: 14.3, 18: 69.3,\n",
        "                  19: 27.2, 20: 56.1, 21: 38.4, 22: 26.0, 23: 10.0, 24: 33.6,\n",
        "                  25: 31.3, 26: 14.4, 27: 30.9, 28: 16.0, 29: 10.0, 30: 14.3,\n",
        "                  31: 15.5}"
      ]
    },
    {
      "cell_type": "markdown",
      "metadata": {
        "id": "xG5Mro7GimoU"
      },
      "source": [
        "##### **Grades data**"
      ]
    },
    {
      "cell_type": "markdown",
      "metadata": {
        "id": "nak4KyKKrINo"
      },
      "source": [
        "Each grade contains a given quantity of certain scrap types"
      ]
    },
    {
      "cell_type": "code",
      "source": [
        "grade_ingredients_dict = {'G01': [6, 8, 4, 5, 0, 1, 2, 7, 9, 16, 20],\n",
        " 'G02': [6, 8, 4, 5, 0, 1, 3, 7, 16, 20],\n",
        " 'G03': [6, 8, 4, 0, 3, 7, 9, 16, 20],\n",
        " 'G04': [6, 8, 18, 4, 5, 7, 9, 11, 17, 30, 16, 19, 20, 27],\n",
        " 'G05': [8, 5, 0, 1, 7, 17, 16, 20],\n",
        " 'G06': [6, 8, 0, 1, 3, 9, 16, 20],\n",
        " 'G07': [6, 8, 18, 4, 5, 0, 1, 3, 16, 20],\n",
        " 'G08': [8, 28, 22, 15, 17, 14, 16, 21, 19, 24, 27],\n",
        " 'G09': [12, 13, 15, 29, 14, 19, 24],\n",
        " 'G10': [6, 8, 7, 15, 14, 19, 24],\n",
        " 'G11': [22, 23, 15, 21, 19, 20, 24],\n",
        " 'G12': [12, 13, 18, 28, 0, 1, 2, 3, 29, 30, 16, 31, 20, 24],\n",
        " 'G13': [12, 13, 15, 29, 19, 24, 25],\n",
        " 'G14': [12, 15, 29, 14, 19, 24],\n",
        " 'G15': [6, 8, 28, 5, 16, 19, 20],\n",
        " 'G16': [6, 8, 5, 7, 11, 15, 29, 14, 20, 24],\n",
        " 'G17': [12, 13, 15, 29, 14, 19, 24, 25],\n",
        " 'G18': [6, 8, 12, 13, 0, 9, 15, 29, 14, 19, 24, 25],\n",
        " 'G19': [12, 15, 20, 24],\n",
        " 'G20': [8, 12, 13, 15, 29, 19, 24, 25],\n",
        " 'G21': [6, 8, 10, 4, 5, 9, 11, 15, 20, 24],\n",
        " 'G22': [8, 10, 5, 7, 15, 29, 14, 20, 24],\n",
        " 'G23': [8, 12, 15, 20],\n",
        " 'G24': [6, 8, 12, 5, 7, 9, 15, 14, 20, 24],\n",
        " 'G25': [6, 8, 4, 5, 7, 11, 15, 14, 20, 24],\n",
        " 'G26': [12, 13, 15, 20, 24, 25],\n",
        " 'G27': [6, 8, 10, 12, 4, 5, 7, 9, 15, 20, 24],\n",
        " 'G28': [6, 8, 5, 0, 3, 9, 17, 16, 20, 27],\n",
        " 'G29': [12, 23, 15, 21, 19, 24],\n",
        " 'G30': [12, 15, 29, 14, 21, 19, 24],\n",
        " 'G31': [12, 13, 23, 15, 29, 21, 19, 24, 25],\n",
        " 'G32': [12, 22, 15, 21, 19, 24, 25],\n",
        " 'G33': [12, 13, 22, 23, 15, 29, 14, 21, 19, 24, 25],\n",
        " 'G34': [6, 8, 5, 0, 1, 2, 3, 17, 16, 20],\n",
        " 'G35': [8, 10, 28, 5, 16, 31, 20, 27],\n",
        " 'G36': [8, 10, 28, 4, 11, 15, 17, 16, 20, 27],\n",
        " 'G37': [6, 8, 18, 4, 5, 15, 30, 16, 20, 27],\n",
        " 'G38': [12, 15, 29, 14, 19, 24, 25],\n",
        " 'G39': [12, 22, 23, 15, 29, 21, 19, 24, 25],\n",
        " 'G40': [6, 8, 18, 28, 4, 7, 9, 15, 17, 16, 20, 27],\n",
        " 'G41': [8, 12, 13, 22, 15, 29, 14, 21, 19, 24, 25],\n",
        " 'G42': [12, 23, 15, 29, 14, 21, 19, 24],\n",
        " 'G43': [12, 13, 15, 21, 19, 24, 25],\n",
        " 'G44': [12, 15, 24, 25],\n",
        " 'G45': [23, 15, 21, 19, 20, 24],\n",
        " 'G46': [12, 13, 28, 15, 17, 29, 14, 16, 19, 24, 25],\n",
        " 'G47': [12, 15, 24],\n",
        " 'G48': [12, 0, 15, 29, 14, 24],\n",
        " 'G49': [12, 15, 29, 14, 24],\n",
        " 'G50': [8, 18, 28, 0, 2, 23, 17, 30, 16, 21, 20, 27],\n",
        " 'G51': [18, 26, 28, 16, 19],\n",
        " 'G52': [6, 8, 10, 12, 18, 28, 0, 2, 9, 16, 20, 25],\n",
        " 'G53': [12, 15, 14, 24, 25],\n",
        " 'G54': [12, 13, 15, 29, 14, 24],\n",
        " 'G55': [12, 15, 24, 25],\n",
        " 'G56': [6, 8, 18, 28, 0, 3, 9, 16, 20],\n",
        " 'G57': [12, 26, 19, 25],\n",
        " 'G58': [6, 8, 10, 28, 11, 16, 19, 24],\n",
        " 'G59': [6, 8, 4, 9, 11, 30, 16, 19, 24],\n",
        " 'G60': [8, 12, 13, 28, 16, 19, 20],\n",
        " 'G61': [8, 10, 18, 4, 5, 11, 17, 16, 19, 24],\n",
        " 'G62': [12, 15, 29, 14, 24],\n",
        " 'G63': [15, 14, 20, 24],\n",
        " 'G64': [12, 13, 15, 14, 19, 24],\n",
        " 'G65': [12, 13, 15, 29, 14, 19, 24, 25],\n",
        " 'G66': [12, 13, 15, 14, 19, 24, 25],\n",
        " 'G67': [15, 29, 21, 24],\n",
        " 'G68': [6, 8, 12, 5, 15, 19, 24],\n",
        " 'G69': [12, 13, 21, 19, 24, 25],\n",
        " 'G70': [12, 22, 21, 20, 24],\n",
        " 'G71': [12, 15, 16, 24, 25],\n",
        " 'G72': [0, 3, 15, 14, 16, 24],\n",
        " 'G73': [12, 18, 0, 1, 15, 14, 16, 24, 27],\n",
        " 'G74': [12, 13, 15, 16, 24],\n",
        " 'G75': [8, 4, 5, 0, 1, 2, 7, 9, 16, 20],\n",
        " 'G76': [6, 8, 0, 3, 16, 20],\n",
        " 'G77': [8, 4, 0, 1, 3, 9, 16, 20],\n",
        " 'G78': [6, 8, 4, 0, 3, 7, 9, 16, 20],\n",
        " 'G79': [6, 8, 18, 28, 0, 1, 16, 20],\n",
        " 'G80': [18, 0, 2, 17, 30, 16, 31, 20, 27],\n",
        " 'G81': [18, 28, 0, 17, 30, 16, 31, 20, 27],\n",
        " 'G82': [0, 3, 30, 16, 20, 27],\n",
        " 'G83': [18, 0, 17, 30, 16, 20]}"
      ],
      "metadata": {
        "id": "51geWS9srINy"
      },
      "execution_count": 6,
      "outputs": []
    },
    {
      "cell_type": "markdown",
      "metadata": {
        "id": "WJZ80WTzrIN3"
      },
      "source": [
        "The quantity of the scrap type required determines how many grabs the crane has to do"
      ]
    },
    {
      "cell_type": "code",
      "source": [
        "total_grabs_dict = {'G01': 25, 'G02': 25, 'G03': 28, 'G04': 36, 'G05': 32, 'G06': 26, 'G07': 32, 'G08': 46, 'G09': 33, 'G10': 41,\n",
        "                    'G11': 27, 'G12': 47, 'G13': 30, 'G14': 30, 'G15': 31, 'G16': 40, 'G17': 32, 'G18': 44, 'G19': 26, 'G20': 33,\n",
        "                    'G21': 38, 'G22': 37, 'G23': 28, 'G24': 37, 'G25': 37, 'G26': 30, 'G27': 36, 'G28': 34, 'G29': 41, 'G30': 41,\n",
        "                    'G31': 42, 'G32': 39, 'G33': 38, 'G34': 40, 'G35': 43, 'G36': 46, 'G37': 45, 'G38': 31, 'G39': 40, 'G40': 47,\n",
        "                    'G41': 37, 'G42': 32, 'G43': 34, 'G44': 22, 'G45': 24, 'G46': 34, 'G47': 22, 'G48': 23, 'G49': 21, 'G50': 28,\n",
        "                    'G51': 41, 'G52': 43, 'G53': 23, 'G54': 25, 'G55': 22, 'G56': 31, 'G57': 22, 'G58': 42, 'G59': 39, 'G60': 33,\n",
        "                    'G61': 38, 'G62': 21, 'G63': 16, 'G64': 30, 'G65': 32, 'G66': 34, 'G67': 27, 'G68': 24, 'G69': 38, 'G70': 32,\n",
        "                    'G71': 22, 'G72': 26, 'G73': 31, 'G74': 23, 'G75': 26, 'G76': 25, 'G77': 27, 'G78': 28, 'G79': 28, 'G80': 32,\n",
        "                    'G81': 32, 'G82': 33, 'G83': 32}"
      ],
      "metadata": {
        "id": "DDCde2o8rIN4"
      },
      "execution_count": 7,
      "outputs": []
    },
    {
      "cell_type": "markdown",
      "source": [
        "Based on the real production plan, there is a maximum time available for the loading of each grade"
      ],
      "metadata": {
        "id": "kXB7Q8oerIN7"
      }
    },
    {
      "cell_type": "code",
      "source": [
        "grades_max_time_dict = {'G07': 2821000.0, 'G08': 3600000.0, 'G09': 4464000.0, 'G11': 2581000.0,\n",
        "                        'G13': 3541000.0, 'G28': 5076000.0, 'G40': 4260000.0, 'G44': 3541000.0,\n",
        "                        'G46': 4146331.0, 'G47': 3421000.0, 'G64': 3990000.0, 'G65': 3601000.0,\n",
        "                        'G67': 3298718.0, 'G78': 2581000.0}"
      ],
      "metadata": {
        "id": "HjQtZhWprIN8"
      },
      "execution_count": 8,
      "outputs": []
    },
    {
      "cell_type": "markdown",
      "source": [
        "##### **Scrap types data**"
      ],
      "metadata": {
        "id": "hQMnMdtKrJzo"
      }
    },
    {
      "cell_type": "markdown",
      "metadata": {
        "id": "7QWxtnwL7jZq"
      },
      "source": [
        "The layer of each scrap type"
      ]
    },
    {
      "cell_type": "code",
      "execution_count": 9,
      "metadata": {
        "id": "adnZAoFo7koS"
      },
      "outputs": [],
      "source": [
        "scrap_layer_dict = {6: 1.0, 8: 1.0, 10: 1.0, 12: 1.0, 13: 1.0, 18: 1.0, 26: 1.0, 28: 2.0, 4: 3.0, 5: 3.0,\n",
        "                    0: 4.0, 1: 4.0, 2: 4.0, 3: 4.0, 7: 4.0, 9: 4.0, 11: 4.0, 22: 4.0, 23: 4.0, 15: 5.0,\n",
        "                    17: 5.0, 29: 5.0, 30: 5.0, 14: 6.0, 16: 6.0, 21: 6.0, 31: 6.0, 19: 7.0, 20: 7.0, 24: 7.0,\n",
        "                    25: 7.0, 27: 7.0}"
      ]
    },
    {
      "cell_type": "markdown",
      "metadata": {
        "id": "Htt77XP2otqC"
      },
      "source": [
        "##### **Production plan data**"
      ]
    },
    {
      "cell_type": "markdown",
      "metadata": {
        "id": "H0xioA6ujeb9"
      },
      "source": [
        "###### (Real) Production plan data"
      ]
    },
    {
      "cell_type": "code",
      "execution_count": 10,
      "metadata": {
        "id": "SSSZaMcPowNL"
      },
      "outputs": [],
      "source": [
        "jobs_eaf1_list_RPP = ['G11', 'G11', 'G11', 'G40', 'G40', 'G40', 'G11', 'G11', 'G11', 'G28', 'G28', 'G28', 'G09', 'G09', 'G09',\n",
        "                      'G11', 'G11', 'G11', 'G07', 'G07', 'G07', 'G28', 'G28', 'G28', 'G46', 'G46', 'G46', 'G46', 'G46', 'G07',\n",
        "                      'G07', 'G07', 'G47', 'G47', 'G47', 'G47', 'G47', 'G47', 'G67', 'G67', 'G67', 'G67', 'G67', 'G78', 'G78',\n",
        "                      'G78', 'G13', 'G13', 'G13', 'G13', 'G13', 'G13', 'G64', 'G64', 'G64', 'G64', 'G64', 'G65', 'G65', 'G65',\n",
        "                      'G65', 'G65', 'G65', 'G44', 'G44', 'G44', 'G44', 'G44', 'G67', 'G67', 'G67', 'G67', 'G67', 'G47', 'G47',\n",
        "                      'G47', 'G47', 'G47', 'G11', 'G11', 'G11', 'G11', 'G11', 'G65', 'G65', 'G65']\n",
        "\n",
        "jobs_eaf2_list_RPP = ['G11', 'G11', 'G11', 'G40', 'G40', 'G40', 'G11', 'G11', 'G11', 'G28', 'G28', 'G28', 'G09', 'G09', 'G09',\n",
        "                      'G11', 'G11', 'G11', 'G07', 'G07', 'G07', 'G28', 'G28', 'G28', 'G07', 'G07', 'G78', 'G78', 'G78', 'G08',\n",
        "                      'G08', 'G08', 'G47', 'G47', 'G78', 'G78', 'G78', 'G11', 'G11', 'G65', 'G65', 'G65']"
      ]
    },
    {
      "cell_type": "code",
      "source": [
        "# Grades that appear in the real production plan\n",
        "grades_list_RPP = ['G07', 'G08', 'G09', 'G11', 'G13', 'G28', 'G40', 'G44', 'G46', 'G47', 'G64', 'G65', 'G67', 'G78']"
      ],
      "metadata": {
        "id": "ZPRZxj4PtnyP"
      },
      "execution_count": 11,
      "outputs": []
    },
    {
      "cell_type": "markdown",
      "source": [
        "###### Leveled Production plan data (LPP)"
      ],
      "metadata": {
        "id": "418h7mN7_PSf"
      }
    },
    {
      "cell_type": "code",
      "execution_count": 12,
      "metadata": {
        "id": "_ymvEwasFKIn"
      },
      "outputs": [],
      "source": [
        "jobs_eaf1_list_LPP = ['G40', 'G12', 'G08', 'G37', 'G35', 'G31', 'G29', 'G51',\n",
        "                      'G59', 'G32', 'G33', 'G24', 'G25', 'G22', 'G46', 'G28',\n",
        "                      'G66', 'G60', 'G82', 'G80', 'G42', 'G17', 'G07', 'G73',\n",
        "                      'G15', 'G14', 'G26', 'G78', 'G79', 'G77', 'G11', 'G75',\n",
        "                      'G72', 'G76', 'G54', 'G68', 'G74', 'G48', 'G55', 'G44',\n",
        "                      'G49']\n",
        "\n",
        "jobs_eaf2_list_LPP = ['G36', 'G18', 'G52', 'G58', 'G30', 'G10', 'G16', 'G39',\n",
        "                      'G34', 'G21', 'G61', 'G69', 'G41', 'G04', 'G27', 'G43',\n",
        "                      'G20', 'G09', 'G65', 'G70', 'G81', 'G83', 'G05', 'G56',\n",
        "                      'G38', 'G13', 'G64', 'G23', 'G50', 'G03', 'G67', 'G19',\n",
        "                      'G06', 'G01', 'G02', 'G45', 'G53', 'G71', 'G57', 'G47',\n",
        "                      'G62', 'G63']"
      ]
    },
    {
      "cell_type": "code",
      "source": [
        "# Complete list of grades\n",
        "grades_list_LPP = ['G01', 'G02', 'G03', 'G04', 'G05', 'G06', 'G07', 'G08', 'G09', 'G10',\n",
        "                   'G11', 'G12', 'G13', 'G14', 'G15', 'G16', 'G17', 'G18', 'G19', 'G20',\n",
        "                   'G21', 'G22', 'G23', 'G24', 'G25', 'G26', 'G27', 'G28', 'G29', 'G30',\n",
        "                   'G31', 'G32', 'G33', 'G34', 'G35', 'G36', 'G37', 'G38', 'G39', 'G40',\n",
        "                   'G41', 'G42', 'G43', 'G44', 'G45', 'G46', 'G47', 'G48', 'G49', 'G50',\n",
        "                   'G51', 'G52', 'G53', 'G54', 'G55', 'G56', 'G57', 'G58', 'G59', 'G60',\n",
        "                   'G61', 'G62', 'G63', 'G64', 'G65', 'G66', 'G67', 'G68', 'G69', 'G70',\n",
        "                   'G71', 'G72', 'G73', 'G74', 'G75', 'G76', 'G77', 'G78', 'G79', 'G80',\n",
        "                   'G81', 'G82', 'G83']"
      ],
      "metadata": {
        "id": "YmOPB-B7tt6N"
      },
      "execution_count": 13,
      "outputs": []
    },
    {
      "cell_type": "code",
      "execution_count": 13,
      "metadata": {
        "id": "BhImsyywy2jP"
      },
      "outputs": [],
      "source": []
    },
    {
      "cell_type": "markdown",
      "source": [
        "####SPLITS"
      ],
      "metadata": {
        "id": "zkYd-87aLwqF"
      }
    },
    {
      "cell_type": "markdown",
      "metadata": {
        "id": "5ef-Yfi7m46g"
      },
      "source": [
        "**Split (0)** - left / right split of boxes from the Layout 0 (for Layout 0 star)"
      ]
    },
    {
      "cell_type": "code",
      "execution_count": 14,
      "metadata": {
        "id": "tB2TaNYEm46g"
      },
      "outputs": [],
      "source": [
        "split0star_left_scraps = sorted([26, 18, 13, 4, 1, 23, 22, 3, 15, 14, 31, 24, 19, 25])\n",
        "split0star_right_scraps = sorted([10, 6, 8, 12, 28, 5, 2, 11, 7, 9, 0, 30, 17, 29, 16, 21, 20, 27])"
      ]
    },
    {
      "cell_type": "markdown",
      "metadata": {
        "id": "sEMYNbQ6MSSw"
      },
      "source": [
        "**Split (1)** - optimized left/right split of scrap types based on the perfect balance between the total length of both sides of the yard"
      ]
    },
    {
      "cell_type": "code",
      "execution_count": 15,
      "metadata": {
        "id": "ZIOmQSCEMSS0"
      },
      "outputs": [],
      "source": [
        "split1_left_scraps = [0, 2, 8, 9, 14, 17, 18, 20, 22, 24, 27, 30, 31]\n",
        "split1_right_scraps = [1, 3, 4, 5, 6, 7, 10, 11, 12, 13, 15, 16, 19, 21, 23, 25, 26, 28, 29]"
      ]
    },
    {
      "cell_type": "markdown",
      "metadata": {
        "id": "U7_biLVoNMBw"
      },
      "source": [
        "**Split (2a)** - optimized left/right split of scrap types based on:\n",
        "1.   balance between the total length of both sides of the yard;\n",
        "2.   balanced split for scraps of the layers in $A$."
      ]
    },
    {
      "cell_type": "code",
      "execution_count": 16,
      "metadata": {
        "id": "DyqYRDqiNMBy"
      },
      "outputs": [],
      "source": [
        "split2a_left_scraps = [0, 3, 4, 5, 6, 7, 15, 16, 18, 19, 21, 22, 25, 26, 27]\n",
        "split2a_right_scraps = [1, 2, 8, 9, 10, 11, 12, 13, 14, 17, 20, 23, 24, 28, 29, 30, 31]"
      ]
    },
    {
      "cell_type": "markdown",
      "metadata": {
        "id": "_8taeceON-5U"
      },
      "source": [
        "**Split (2b)** - optimized left/right split of scrap types based on:\n",
        "1.   balanced split for scraps of the layers in $A$;\n",
        "2.   balance  between the total length of both sides of the yard."
      ]
    },
    {
      "cell_type": "code",
      "execution_count": 17,
      "metadata": {
        "id": "3UWUEf-lN-5k"
      },
      "outputs": [],
      "source": [
        "split2b_left_scraps = [0, 2, 4, 5, 7, 9, 11, 13, 16, 17, 18, 20, 21, 24, 26, 29, 30]\n",
        "split2b_right_scraps = [1, 3, 6, 8, 10, 12, 14, 15, 19, 22, 23, 25, 27, 28, 31]"
      ]
    },
    {
      "cell_type": "markdown",
      "source": [
        "**Split (3)** - optimized left/right split of scrap types based on the balance between the total length of both sides of the yard with weight $0.5$ and the balance between the split for scraps of layer 1, 4, 5, 6 and 7 with weight $0.5$."
      ],
      "metadata": {
        "id": "WjHkknZaPBUI"
      }
    },
    {
      "cell_type": "code",
      "source": [
        "# alpha = 1.0\n",
        "\n",
        "split3_10_left_scraps = [0, 2, 8, 9, 14, 17, 18, 20, 22, 24, 27, 30, 31]\n",
        "split3_10_right_scraps = [1, 3, 4, 5, 6, 7, 10, 11, 12, 13, 15, 16, 19, 21, 23, 25, 26, 28, 29]"
      ],
      "metadata": {
        "id": "LgZb0NCxMxwK"
      },
      "execution_count": 18,
      "outputs": []
    },
    {
      "cell_type": "code",
      "source": [
        "# alpha = 0.9\n",
        "\n",
        "split3_09_left_scraps = [2, 7, 8, 9, 10, 11, 12, 13, 14, 17, 20, 23, 24, 28, 29, 30, 31]\n",
        "split3_09_right_scraps = [0, 1, 3, 4, 5, 6, 15, 16, 18, 19, 21, 22, 25, 26, 27]"
      ],
      "metadata": {
        "id": "lPkgv9h6QfeG"
      },
      "execution_count": 19,
      "outputs": []
    },
    {
      "cell_type": "code",
      "source": [
        "# alpha = 0.8\n",
        "\n",
        "split3_08_left_scraps = [4, 5, 7, 11, 13, 16, 17, 18, 19, 21, 22, 23, 25, 26, 27, 29, 30]\n",
        "split3_08_right_scraps = [0, 1, 2, 3, 6, 8, 9, 10, 12, 14, 15, 20, 24, 28, 31]"
      ],
      "metadata": {
        "id": "fPMsvDt4RKnq"
      },
      "execution_count": 20,
      "outputs": []
    },
    {
      "cell_type": "code",
      "source": [
        "# alpha = 0.7\n",
        "\n",
        "split3_07_left_scraps = [4, 5, 7, 11, 13, 16, 17, 18, 19, 21, 22, 23, 25, 26, 27, 29, 30]\n",
        "split3_07_right_scraps = [0, 1, 2, 3, 6, 8, 9, 10, 12, 14, 15, 20, 24, 28, 31]"
      ],
      "metadata": {
        "id": "49gMMnYJSjco"
      },
      "execution_count": 21,
      "outputs": []
    },
    {
      "cell_type": "code",
      "source": [
        "# alpha = 0.6\n",
        "\n",
        "split3_06_left_scraps = [0, 2, 4, 5, 9, 11, 13, 16, 17, 18, 20, 21, 23, 24, 26, 29, 30]\n",
        "split3_06_right_scraps = [1, 3, 6, 7, 8, 10, 12, 14, 15, 19, 22, 25, 27, 28, 31]"
      ],
      "metadata": {
        "id": "a9RUb6mdS0Ll"
      },
      "execution_count": 22,
      "outputs": []
    },
    {
      "cell_type": "code",
      "source": [
        "# alpha = 0.5\n",
        "\n",
        "split3_05_left_scraps = [0, 2, 6, 8, 9, 10, 11, 12, 14, 15, 20, 23, 24, 28, 31]\n",
        "split3_05_right_scraps = [1, 3, 4, 5, 7, 13, 16, 17, 18, 19, 21, 22, 25, 26, 27, 29, 30]"
      ],
      "metadata": {
        "id": "Xklnsh67TiC_"
      },
      "execution_count": 23,
      "outputs": []
    },
    {
      "cell_type": "code",
      "source": [
        "# alpha = 0.4\n",
        "\n",
        "split3_04_left_scraps = [6, 7, 8, 10, 11, 12, 14, 15, 19, 22, 23, 25, 27, 28, 31]\n",
        "split3_04_right_scraps = [0, 1, 2, 3, 4, 5, 9, 13, 16, 17, 18, 20, 21, 24, 26, 29, 30]"
      ],
      "metadata": {
        "id": "YVTcb8O2T8Cr"
      },
      "execution_count": 24,
      "outputs": []
    },
    {
      "cell_type": "code",
      "source": [
        "# alpha = 0.3\n",
        "\n",
        "split3_03_left_scraps = [4, 5, 7, 11, 13, 16, 17, 18, 19, 21, 22, 23, 25, 26, 27, 29, 30]\n",
        "split3_03_right_scraps = [0, 1, 2, 3, 6, 8, 9, 10, 12, 14, 15, 20, 24, 28, 31]"
      ],
      "metadata": {
        "id": "vfVNvk76UQng"
      },
      "execution_count": 25,
      "outputs": []
    },
    {
      "cell_type": "code",
      "source": [
        "# alpha = 0.2\n",
        "\n",
        "split3_02_left_scraps = [6, 7, 8, 10, 11, 12, 14, 15, 19, 22, 23, 25, 27, 28, 31]\n",
        "split3_02_right_scraps = [0, 1, 2, 3, 4, 5, 9, 13, 16, 17, 18, 20, 21, 24, 26, 29, 30]"
      ],
      "metadata": {
        "id": "3leIiE9HUUKu"
      },
      "execution_count": 26,
      "outputs": []
    },
    {
      "cell_type": "code",
      "source": [
        "# alpha = 0.1\n",
        "\n",
        "split3_01_left_scraps = [0, 1, 2, 6, 8, 9, 10, 12, 14, 15, 20, 23, 24, 28, 31]\n",
        "split3_01_right_scraps = [3, 4, 5, 7, 11, 13, 16, 17, 18, 19, 21, 22, 25, 26, 27, 29, 30]"
      ],
      "metadata": {
        "id": "tP3w-XGOUYUz"
      },
      "execution_count": 27,
      "outputs": []
    },
    {
      "cell_type": "code",
      "source": [
        "# alpha = 0.0\n",
        "\n",
        "split3_00_left_scraps = [0, 2, 4, 5, 9, 11, 13, 15, 16, 18, 20, 21, 23, 24, 26, 28]\n",
        "split3_00_right_scraps = [1, 3, 6, 7, 8, 10, 12, 14, 17, 19, 22, 25, 27, 29, 30, 31]"
      ],
      "metadata": {
        "id": "HqVLggxgUcy5"
      },
      "execution_count": 28,
      "outputs": []
    },
    {
      "cell_type": "code",
      "source": [
        "# Function to set left_scraps and right_scraps according to the split\n",
        "\n",
        "def get_scraps(split):\n",
        "    left_var_name = f\"{split}_left_scraps\"\n",
        "    right_var_name = f\"{split}_right_scraps\"\n",
        "\n",
        "    # Fallback if split is not recognized\n",
        "    if left_var_name not in globals() or right_var_name not in globals():\n",
        "        left_var_name = split3_05_left_scraps\n",
        "        right_var_name = split3_05_right_scraps\n",
        "        print('Error! Using Split 3 0.5 as default')\n",
        "\n",
        "    left_scraps = globals()[left_var_name]\n",
        "    right_scraps = globals()[right_var_name]\n",
        "\n",
        "    return left_scraps, right_scraps"
      ],
      "metadata": {
        "id": "RvYnCau7Nrx5"
      },
      "execution_count": 29,
      "outputs": []
    },
    {
      "cell_type": "code",
      "source": [],
      "metadata": {
        "id": "OlOTnsxzCF0w"
      },
      "execution_count": 29,
      "outputs": []
    },
    {
      "cell_type": "markdown",
      "source": [
        "#### LAYER PERMUTATION"
      ],
      "metadata": {
        "id": "2fG5Dahcs5Yo"
      }
    },
    {
      "cell_type": "code",
      "execution_count": 30,
      "metadata": {
        "id": "Mv8V6vbOpCYj"
      },
      "outputs": [],
      "source": [
        "layer_1 = [key for key in scrap_layer_dict.keys() if scrap_layer_dict[key] == 1.0]\n",
        "layer_2 = [key for key in scrap_layer_dict.keys() if scrap_layer_dict[key] == 2.0]\n",
        "layer_3 = [key for key in scrap_layer_dict.keys() if scrap_layer_dict[key] == 3.0]\n",
        "layer_4 = [key for key in scrap_layer_dict.keys() if scrap_layer_dict[key] == 4.0]\n",
        "layer_5 = [key for key in scrap_layer_dict.keys() if scrap_layer_dict[key] == 5.0]\n",
        "layer_6 = [key for key in scrap_layer_dict.keys() if scrap_layer_dict[key] == 6.0]\n",
        "layer_7 = [key for key in scrap_layer_dict.keys() if scrap_layer_dict[key] == 7.0]\n",
        "#print(layer_1)\n",
        "#print(layer_2)\n",
        "#print(layer_3)\n",
        "#print(layer_4)\n",
        "#print(layer_5)\n",
        "#print(layer_6)\n",
        "#print(layer_7)"
      ]
    },
    {
      "cell_type": "code",
      "execution_count": 31,
      "metadata": {
        "id": "uYlkNCAWq9zO"
      },
      "outputs": [],
      "source": [
        "layer_1_perms = list(permutations(layer_1))\n",
        "layer_2_perms = list(permutations(layer_2))\n",
        "layer_3_perms = list(permutations(layer_3))\n",
        "layer_4_perms = list(permutations(layer_4))\n",
        "layer_5_perms = list(permutations(layer_5))\n",
        "layer_6_perms = list(permutations(layer_6))\n",
        "layer_7_perms = list(permutations(layer_7))\n",
        "#layer_1_perms"
      ]
    },
    {
      "cell_type": "code",
      "execution_count": 32,
      "metadata": {
        "id": "UfC7LD3wBeK6"
      },
      "outputs": [],
      "source": [
        "perms = [layer_1_perms, layer_2_perms, layer_3_perms, layer_4_perms, layer_5_perms, layer_6_perms, layer_7_perms]"
      ]
    },
    {
      "cell_type": "markdown",
      "metadata": {
        "id": "G7LRKl-svPFr"
      },
      "source": [
        "Function to get recipe out of a permutation for all layers"
      ]
    },
    {
      "cell_type": "code",
      "execution_count": 33,
      "metadata": {
        "id": "TBkEkX8Gr_7h"
      },
      "outputs": [],
      "source": [
        "def get_recipe(grade, sigma):\n",
        "    # Input: a grade (eg. 'G07') and a sequence of all scraps in each layer\n",
        "    # Output: the recipe for the grade using the sequences\n",
        "\n",
        "    ingredients = grade_ingredients_dict[grade]\n",
        "    recipe = [scrap for scrap in sigma[0] if scrap in ingredients]\n",
        "    recipe += [scrap for scrap in sigma[1] if scrap in ingredients]\n",
        "    recipe += [scrap for scrap in sigma[2] if scrap in ingredients]\n",
        "    recipe += [scrap for scrap in sigma[3] if scrap in ingredients]\n",
        "    recipe += [scrap for scrap in sigma[4] if scrap in ingredients]\n",
        "    recipe += [scrap for scrap in sigma[5] if scrap in ingredients]\n",
        "    recipe += [scrap for scrap in sigma[6] if scrap in ingredients]\n",
        "\n",
        "    return recipe"
      ]
    },
    {
      "cell_type": "markdown",
      "metadata": {
        "id": "_ZeC19XvohQg"
      },
      "source": [
        "#### GET INFO FROM OUTPUT"
      ]
    },
    {
      "cell_type": "markdown",
      "metadata": {
        "id": "YNnQn0kttemx"
      },
      "source": [
        "##### **Layout**"
      ]
    },
    {
      "cell_type": "code",
      "execution_count": 34,
      "metadata": {
        "id": "eB8zZNBZohQi"
      },
      "outputs": [],
      "source": [
        "def get_precedences(scraps):\n",
        "    precedences = []\n",
        "\n",
        "    for i in scraps:\n",
        "      for j in scraps:\n",
        "        if x[i,j].X == 1:\n",
        "          precedences.append(f'[{i},{j}]')\n",
        "\n",
        "    return precedences"
      ]
    },
    {
      "cell_type": "code",
      "execution_count": 35,
      "metadata": {
        "id": "X1AfUidPohQj"
      },
      "outputs": [],
      "source": [
        "def print_row(scraps, precedences):\n",
        "    aux = []\n",
        "    for i in sorted(scraps):\n",
        "      for j in sorted(scraps):\n",
        "        if f'[{i},{j}]' in precedences:\n",
        "          aux.append(i)\n",
        "\n",
        "    row = []\n",
        "    for k in range(len(scraps)):\n",
        "      for i in sorted(scraps):\n",
        "        if aux.count(i) == k:\n",
        "          row.append(i)\n",
        "\n",
        "    return row"
      ]
    },
    {
      "cell_type": "markdown",
      "metadata": {
        "id": "PuENTBKKtiro"
      },
      "source": [
        "##### **Yard total length**"
      ]
    },
    {
      "cell_type": "code",
      "execution_count": 36,
      "metadata": {
        "id": "R8nRHYkmRIME"
      },
      "outputs": [],
      "source": [
        "def compute_side_length(side):\n",
        "    length = 20*2 + 1.7\n",
        "    for scrap in side:\n",
        "      length += box_width_dict[scrap] + 1.7\n",
        "\n",
        "    return length"
      ]
    },
    {
      "cell_type": "code",
      "execution_count": 37,
      "metadata": {
        "id": "Pyu39GWaQfD-"
      },
      "outputs": [],
      "source": [
        "def compute_yard_length(L, R):\n",
        "\n",
        "    return max(compute_side_length(L), compute_side_length(R))"
      ]
    },
    {
      "cell_type": "markdown",
      "metadata": {
        "id": "9S_rfj_Ltw1L"
      },
      "source": [
        "##### **Loading time for the production plan**"
      ]
    },
    {
      "cell_type": "code",
      "execution_count": 38,
      "metadata": {
        "id": "kNdTMHqbOLh6"
      },
      "outputs": [],
      "source": [
        "def compute_midpoints(L, R):\n",
        "    midpoints = {}\n",
        "\n",
        "    L_aux = L.copy()\n",
        "    L_aux.reverse()\n",
        "    midpoint = 20 + 1.7 + box_width_dict[L_aux[0]]/2\n",
        "    midpoints[L_aux[0]] = midpoint\n",
        "    for i in range(1,len(L_aux)):\n",
        "      midpoint += box_width_dict[L_aux[i-1]]/2 + 1.7 + box_width_dict[L_aux[i]]/2\n",
        "      midpoints[L_aux[i]] = midpoint\n",
        "\n",
        "    R_aux = R.copy()\n",
        "    R_aux.reverse()\n",
        "    midpoint = 20 + 1.7 + box_width_dict[R_aux[0]]/2\n",
        "    midpoints[R_aux[0]] = midpoint\n",
        "    for i in range(1,len(R_aux)):\n",
        "      midpoint += box_width_dict[R_aux[i-1]]/2 + 1.7 + box_width_dict[R_aux[i]]/2\n",
        "      midpoints[R_aux[i]] = midpoint\n",
        "\n",
        "    return midpoints"
      ]
    },
    {
      "cell_type": "code",
      "execution_count": 39,
      "metadata": {
        "id": "qOqYlNfwBrsi"
      },
      "outputs": [],
      "source": [
        "def get_grade_loading_time(grade, sigma, L, R):\n",
        "\n",
        "  recipe = get_recipe(grade, sigma)\n",
        "  total_grabs = total_grabs_dict[grade]\n",
        "\n",
        "  midpoint = compute_midpoints(L,R)\n",
        "\n",
        "  time = 6.2 + 2*1.47 + 0.67*total_grabs + (midpoint[recipe[0]] + midpoint[recipe[-1]])/60\n",
        "  for i in range(len(recipe)-1):\n",
        "    time += abs(midpoint[recipe[i]]-midpoint[recipe[i+1]])/40\n",
        "\n",
        "  return time"
      ]
    },
    {
      "cell_type": "code",
      "execution_count": 40,
      "metadata": {
        "id": "VNJ9Z41FuDod"
      },
      "outputs": [],
      "source": [
        "def get_eaf_loading_time(prodplan, sigma, L, R):\n",
        "\n",
        "    time = 0\n",
        "    for grade in prodplan:\n",
        "      time += get_grade_loading_time(grade, sigma, L, R)\n",
        "\n",
        "    return time"
      ]
    },
    {
      "cell_type": "code",
      "execution_count": 41,
      "metadata": {
        "id": "nXCbXvYZuGih"
      },
      "outputs": [],
      "source": [
        "def get_prod_plan_loading_time(prodplan1, prodplan2, sigma, L, R):\n",
        "\n",
        "    return max(get_eaf_loading_time(prodplan1, sigma, L, R), get_eaf_loading_time(prodplan2, sigma, L, R))"
      ]
    },
    {
      "cell_type": "code",
      "execution_count": 41,
      "metadata": {
        "id": "m_UqDVfKzGQ3"
      },
      "outputs": [],
      "source": []
    },
    {
      "cell_type": "markdown",
      "metadata": {
        "id": "X1Ht8G_yhkf3"
      },
      "source": [
        "  #### MODEL FORMULATION"
      ]
    },
    {
      "cell_type": "markdown",
      "metadata": {
        "id": "DxZkywI7PCUx"
      },
      "source": [
        "This is the model to be run in each iteration of the simulated annealing. For each grade, there is a single recipe to consider."
      ]
    },
    {
      "cell_type": "markdown",
      "metadata": {
        "id": "kTpKPockcers"
      },
      "source": [
        "##### **Sets**"
      ]
    },
    {
      "cell_type": "markdown",
      "metadata": {
        "id": "WWt3AUThcers"
      },
      "source": [
        "$S$ is the set of scrap types\n",
        "\n",
        "$L$ is the set of scraps on the left side of the scrap yard\n",
        "\n",
        "$R$ is the set of scraps on the right side of the scrap yard\n",
        "\n",
        "$G$ is the set of grades\n",
        "\n",
        "$P$ is the sequence of jobs in EAF1\n",
        "\n",
        "$Q$ is the sequence of jobs in EAF2"
      ]
    },
    {
      "cell_type": "markdown",
      "metadata": {
        "id": "1RdYXEemcers"
      },
      "source": [
        "##### **Parameters**"
      ]
    },
    {
      "cell_type": "markdown",
      "metadata": {
        "id": "lfE5_TlVcert"
      },
      "source": [
        "- For each scrap type $s \\in S$ we are given the width of the box containing the scrap, $w_s$.\n",
        "- For each grade $g \\in G$ we are given a recipe, $z_g$.\n",
        "- For each grade $g \\in G$ we are given the total number of grabs required to load the necessary quantities, $n_g$.\n",
        "- (ONLY FOR REAL PROD PLAN) For each grade $g \\in G$ we are given the maximum time allowed for the loading of the bucket, $r_g$ (in $ms$).\n",
        "- For each job $p \\in P$ in EAF1 we are given the corresponding grade $g_p$.\n",
        "- For each job $q \\in Q$ in EAF2 we are given the corresponding grade $h_q$."
      ]
    },
    {
      "cell_type": "markdown",
      "metadata": {
        "id": "qCitO39hcert"
      },
      "source": [
        "##### **Variables**"
      ]
    },
    {
      "cell_type": "markdown",
      "metadata": {
        "id": "QU_2Vqxzcert"
      },
      "source": [
        "For each scrap type $s \\in S$:\n",
        "- $m_s$ is a non-negative continuous variable describing the midpoint of the box containing $s$, starting at the entry of the scrap yard closer to the EAFs.\n",
        "\n",
        "For each pair of scrap types $s_1,s_2 \\in S$:\n",
        "- $x_{s_1,s_2}$ is a binary variable that equals $1$ iff $s_1$ and $s_2$ are both on the left or both on the right side of the scrap yard and scrap type $s_1$ is closer to the EAFs that $s_2$;\n",
        "- $d_{s_1,s_2}$ is a non-negative continuous variable describing the distance between $m_{s_1}$ and $m_{s_2}$ (regardless of their being or not in the same side of the scrap yard).\n",
        "\n",
        "For each grade $g \\in G$:\n",
        "- $t_g$ is a non-negative continuous variable describing the time it takes to have the bucket loaded with $z_g$ ready at the EAF, including the unloading of the previous mixture.\n",
        "\n",
        "And also:\n",
        "- $U$ is a non-negative continuous variable describing the total time taken to load all grades bound to EAF1;\n",
        "- $V$ is a non-negative continuous variable describing the total time taken to load all grades bound to EAF2;\n",
        "- $W$ is a non-negative continuous variable describing the total time taken to load the whole production plan."
      ]
    },
    {
      "cell_type": "markdown",
      "metadata": {
        "id": "DgnxflZuceru"
      },
      "source": [
        "##### **Constraints**"
      ]
    },
    {
      "cell_type": "markdown",
      "metadata": {
        "id": "F7nbTXYpceru"
      },
      "source": [
        "- Each midpoint $m_s$ is given by (in meters): $$m_s = 20 + 1.7 + \\Big( \\sum_{s^\\ast=0}^{31} (w_{s^\\ast} + 1.7)x_{s^\\ast,s} \\Big) + \\frac{w_s}{2} \\, , \\quad \\forall \\, s\\in S$$\n",
        "- Given any two scrap types on the same side of the scrap yard, exactly one sits closer to the EAFs: $$x_{s_1,s_2}+x_{s_2,s_1} = 1 \\, , \\quad \\forall \\, s_1,s_2 \\in L$$\n",
        "$$x_{s_1,s_2}+x_{s_2,s_1} = 1 \\, , \\quad \\forall \\, s_1,s_2 \\in R$$\n",
        "- No scrap type preceeds itself: $$x_{s,s} = 0 \\, , \\quad \\forall \\, s \\in S$$\n",
        "- Given any two scrap types on different sides of the scrap yard, no one preceeds the other: $$x_{s_1,s_2} = 0 \\, , \\quad \\forall \\, s_1 \\in L, s_2 \\in R$$ $$x_{s_1,s_2} = 0 \\, , \\quad \\forall \\, s_1 \\in R, s_2 \\in L$$\n",
        "- Variables $x$ are transitive: $$x_{s_1,s_2} = x_{s_2,s_3} = 1 ⇒ x_{s_1,s_3} = 1 \\, , \\quad \\forall \\, s_1,s_2,s_3 \\in L$$ $$x_{s_1,s_2} = x_{s_2,s_3} = 1 ⇒ x_{s_1,s_3} = 1 \\, , \\quad \\forall \\, s_1,s_2,s_3 \\in R$$\n",
        "- The distance between any two scrap types: $$d_{s_1,s_2} = |m_{s_1}-m_{s_2}| \\, , \\quad \\forall \\, s_1,s_2 \\in S$$\n",
        "- The time necessary to load a grade $g \\in G$ into the bucket (incluinding the unloading of the previous grade) is given by (in minutes): $$t_g = 6.2 + 1.47\\times 2 + 0.67n_g + \\frac{m_{z_g[0]} + m_{z_g[-1]}}{60} + \\sum_{i=0}^{\\text{len}(z_g)-2} \\frac{d_{z_g[i],z_g[i+1]}}{40} \\, , \\quad \\forall \\, g\\in G$$\n",
        "- (ONLY FOR REAL PROD PLAN) The time necessary to load a grade $g \\in G$ into the bucket cannot exceed the maximum time allowed: $$t_g \\leq \\frac{r_g}{1000} \\, , \\quad \\forall \\, g\\in G$$\n",
        "- The total time it takes to load all grades in the production plan: $$U = \\sum_{p \\in P} t_{g_p}$$  $$V = \\sum_{q \\in Q} t_{h_q}$$\n",
        "- The variable to minimize: $$W \\geq U$$ $$W \\geq V$$"
      ]
    },
    {
      "cell_type": "markdown",
      "metadata": {
        "id": "N-CaNouJcert"
      },
      "source": [
        "##### **Objective function**"
      ]
    },
    {
      "cell_type": "markdown",
      "metadata": {
        "id": "2hleYK8Zcert"
      },
      "source": [
        "The objective is to minimize the total time taken to produce all the grades in the production plan. This can be stated as\n",
        "\n",
        "$$\\min W$$"
      ]
    },
    {
      "cell_type": "code",
      "execution_count": 41,
      "metadata": {
        "id": "lPys8oRFEyID"
      },
      "outputs": [],
      "source": []
    },
    {
      "cell_type": "markdown",
      "metadata": {
        "id": "MC_SbL_Cceru"
      },
      "source": [
        "#### GUROBI STUFF"
      ]
    },
    {
      "cell_type": "code",
      "execution_count": 42,
      "metadata": {
        "id": "CQUGAUuacvpp",
        "colab": {
          "base_uri": "https://localhost:8080/",
          "height": 0
        },
        "outputId": "d1390dad-38a9-444d-871e-e2bd8afdd0a2"
      },
      "outputs": [
        {
          "output_type": "stream",
          "name": "stdout",
          "text": [
            "Requirement already satisfied: gurobipy in /usr/local/lib/python3.11/dist-packages (12.0.2)\n"
          ]
        }
      ],
      "source": [
        "!pip install gurobipy  # install gurobipy, if not already installed\n",
        "import gurobipy as gp  # import the installed package"
      ]
    },
    {
      "cell_type": "code",
      "execution_count": 43,
      "metadata": {
        "id": "KePbV1CSceru"
      },
      "outputs": [],
      "source": [
        "from gurobipy import *\n",
        "from gurobipy import GRB # explicitly import GRB from gurobipy"
      ]
    },
    {
      "cell_type": "code",
      "execution_count": 44,
      "metadata": {
        "id": "GWJbPbkTYR2Q",
        "colab": {
          "base_uri": "https://localhost:8080/",
          "height": 0
        },
        "outputId": "107aab55-fccf-4816-93cf-eff52999c659"
      },
      "outputs": [
        {
          "output_type": "stream",
          "name": "stdout",
          "text": [
            "Set parameter WLSAccessID\n",
            "Set parameter WLSSecret\n",
            "Set parameter LicenseID to value 2619152\n",
            "Academic license 2619152 - for non-commercial use only - registered to fi___@isel.pt\n"
          ]
        }
      ],
      "source": [
        "# Create an environment with WLS license\n",
        "params = {\n",
        "\"WLSACCESSID\": '2a70f88e-2ab9-4842-a69f-76e476aadfc7',\n",
        "\"WLSSECRET\": 'afe42e0c-dc70-4454-8e74-3b301761961e',\n",
        "\"LICENSEID\": 2619152,\n",
        "}\n",
        "env = gp.Env(params=params)\n",
        "\n",
        "# Create the model within the Gurobi environment\n",
        "model = gp.Model(env=env)"
      ]
    },
    {
      "cell_type": "code",
      "execution_count": 44,
      "metadata": {
        "id": "p9MbLnpy5LAS"
      },
      "outputs": [],
      "source": []
    },
    {
      "cell_type": "markdown",
      "metadata": {
        "id": "WX22idE9GBGV"
      },
      "source": [
        "#### MODEL IMPLEMENTATION & SIMULATED ANNEALING"
      ]
    },
    {
      "cell_type": "code",
      "execution_count": 45,
      "metadata": {
        "id": "nsF_zZN934FD"
      },
      "outputs": [],
      "source": [
        "k = random.randint(1, 5000)\n",
        "random.seed(k)\n",
        "\n",
        "#print(f'Seed in use: {k}')"
      ]
    },
    {
      "cell_type": "markdown",
      "metadata": {
        "id": "lICm6EY_QRIt"
      },
      "source": [
        "##### **Chosing the neighbour**"
      ]
    },
    {
      "cell_type": "markdown",
      "source": [
        "Neighbour functions considered:\n",
        "\n",
        "\n",
        "**v1** Chooses 1 layer in $\\sigma$, chooses 2 scraps in that layer and swaps their boxes\n",
        "\n",
        "**v2** Chooses 1 layer in $\\sigma$ and replaces the entire layer permutation for another\n",
        "\n",
        "**v3** Chooses 2 layers in $\\sigma$, chooses 2 scraps in each and swaps their boxes\n",
        "        \n",
        "**v4** Chooses 2 layers in $\\sigma$ and swaps their entire permutation for another\n",
        "        \n",
        "**v5** Chooses n layers in $\\sigma$, chooses 2 scraps in each and swaps their boxes\n",
        "        \n",
        "**v6** Chooses n layers in $\\sigma$ and swaps their entire permutation for another"
      ],
      "metadata": {
        "id": "eid_ZdeBTtrm"
      }
    },
    {
      "cell_type": "code",
      "source": [
        "# Function to choose 2 scraps (within same layer) and swap them in sigma\n",
        "\n",
        "def choose_and_swap(layer):\n",
        "\n",
        "    # Make copy as a list to allow modification\n",
        "    new_layer_perm = list(sigma[layer-1])\n",
        "\n",
        "    # Pick two different scraps in the layer\n",
        "    scrap1 = random.choice(sigma[layer-1])\n",
        "    scrap2 = random.choice(sigma[layer-1])\n",
        "    while scrap2 == scrap1:\n",
        "        scrap2 = random.choice(sigma[layer-1])\n",
        "    # Swap them\n",
        "    new_layer_perm = [scrap2 if x == scrap1 else scrap1 if x == scrap2 else x for x in new_layer_perm] # Use the modifiable list here\n",
        "\n",
        "    return new_layer_perm"
      ],
      "metadata": {
        "id": "eYx7RSehThjB"
      },
      "execution_count": 46,
      "outputs": []
    },
    {
      "cell_type": "code",
      "source": [
        "# Function to choose new permutation of a given layer\n",
        "\n",
        "def choose_new_perm(layer):\n",
        "\n",
        "    # Pick random permutation in layer\n",
        "    new_perm = random.choice(perms[layer-1])\n",
        "    while new_perm == sigma[layer-1]:\n",
        "        new_perm = random.choice(perms[layer-1])\n",
        "    # Return the new permutation\n",
        "    return new_perm"
      ],
      "metadata": {
        "id": "ecdlWnJBUzjG"
      },
      "execution_count": 47,
      "outputs": []
    },
    {
      "cell_type": "code",
      "execution_count": 48,
      "metadata": {
        "id": "XPtvej7H0wnU"
      },
      "outputs": [],
      "source": [
        "# v1 Chooses 1 layer and swaps 2 scraps in that layer\n",
        "\n",
        "def get_neighbour_v1(sigma):\n",
        "\n",
        "    # Make copy\n",
        "    new_sigma = sigma.copy()\n",
        "\n",
        "    # Pick random layer\n",
        "    i = random.choice([1,3,4,5,6,7])\n",
        "    # Pick two different scraps in the chosen layer\n",
        "    scrap1 = random.choice(sigma[i-1])\n",
        "    scrap2 = random.choice(sigma[i-1])\n",
        "    while scrap2 == scrap1:\n",
        "        scrap2 = random.choice(sigma[i-1])\n",
        "    # Swap them\n",
        "    new_sigma[i-1] = [scrap2 if x == scrap1 else scrap1 if x == scrap2 else x for x in sigma[i-1]]\n",
        "\n",
        "    return new_sigma"
      ]
    },
    {
      "cell_type": "code",
      "execution_count": 49,
      "metadata": {
        "id": "aiUmt810QV-Q"
      },
      "outputs": [],
      "source": [
        "# v2 Chooses 1 layer and replaces the layer's permutation for another\n",
        "\n",
        "def get_neighbour_v2(sigma):\n",
        "\n",
        "    # Make copy\n",
        "    new_sigma = sigma.copy()\n",
        "\n",
        "    # Pick random layer\n",
        "    i = random.choice([1,3,4,5,6,7])\n",
        "    # Pick random permutation in layer i\n",
        "    new_layer_perm = random.choice(perms[i-1])\n",
        "    while new_layer_perm == sigma[i-1]:\n",
        "        new_layer_perm = random.choice(perms[i-1])\n",
        "    # Replace old layer i perm by new layer i perm in sigma\n",
        "    new_sigma[i-1] = new_layer_perm\n",
        "\n",
        "    return new_sigma"
      ]
    },
    {
      "cell_type": "code",
      "execution_count": 50,
      "metadata": {
        "id": "bbdhe5S4HTOZ"
      },
      "outputs": [],
      "source": [
        "# v3 Chooses 2 layers and swaps 2 scraps in each\n",
        "\n",
        "def get_neighbour_v3(sigma):\n",
        "\n",
        "    # Make copy\n",
        "    new_sigma = sigma.copy()\n",
        "\n",
        "    # Pick two different random layers\n",
        "    i = random.choice([1,3,4,5,6,7])\n",
        "    j = random.choice([1,3,4,5,6,7])\n",
        "    while j == i:\n",
        "        j = random.choice([1,3,4,5,6,7])\n",
        "    # Swap scraps in chosen layers\n",
        "    new_sigma[i-1] = tuple(choose_and_swap(i))\n",
        "    new_sigma[j-1] = tuple(choose_and_swap(j))\n",
        "\n",
        "    return new_sigma"
      ]
    },
    {
      "cell_type": "code",
      "execution_count": 51,
      "metadata": {
        "id": "ZYZfC_ueb0Jg"
      },
      "outputs": [],
      "source": [
        "# v4 Chooses 2 layers and swaps its permutation for another\n",
        "\n",
        "def get_neighbour_v4(sigma):\n",
        "\n",
        "    # Make copy\n",
        "    new_sigma = sigma.copy()\n",
        "\n",
        "    # Pick two different random layers\n",
        "    i = random.choice([1,3,4,5,6,7])\n",
        "    j = random.choice([1,3,4,5,6,7])\n",
        "    while j == i:\n",
        "        j = random.choice([1,3,4,5,6,7])\n",
        "    # Swap scraps in chosen layers\n",
        "    new_sigma[i-1] = tuple(choose_new_perm(i))\n",
        "    new_sigma[j-1] = tuple(choose_new_perm(j))\n",
        "\n",
        "    return new_sigma"
      ]
    },
    {
      "cell_type": "code",
      "execution_count": 52,
      "metadata": {
        "id": "h0xKCiYKLLjz"
      },
      "outputs": [],
      "source": [
        "# v5 Chooses n layers to be modified and swaps 2 scraps in each\n",
        "\n",
        "def get_neighbour_v5(sigma):\n",
        "\n",
        "    # Make copy\n",
        "    new_sigma = sigma.copy()\n",
        "\n",
        "    # Pick the number of layers which will be changed\n",
        "    n = random.randint(1, 6)\n",
        "    print(n)\n",
        "\n",
        "    # Pick n different random layers\n",
        "    layers = random.sample([1,3,4,5,6,7], n)\n",
        "    print(layers)\n",
        "    # Swap scraps in chosen layers\n",
        "    for i in layers:\n",
        "        new_sigma[i-1] = tuple(choose_and_swap(i))\n",
        "\n",
        "    return new_sigma"
      ]
    },
    {
      "cell_type": "code",
      "source": [
        "# v6 Chooses n layers to be modified and swaps their permutation for another\n",
        "\n",
        "def get_neighbour_v6(sigma):\n",
        "\n",
        "    # Make copy\n",
        "    new_sigma = sigma.copy()\n",
        "\n",
        "    # Pick the number of layers which will be changed\n",
        "    n = random.randint(1, 6)\n",
        "    print(n)\n",
        "\n",
        "    # Pick n different random layers\n",
        "    layers = random.sample([1,3,4,5,6,7], n)\n",
        "    print(layers)\n",
        "    # Swap scraps in chosen layers\n",
        "    for i in layers:\n",
        "        new_sigma[i-1] = tuple(choose_new_perm(i))\n",
        "\n",
        "    return new_sigma"
      ],
      "metadata": {
        "id": "rlJS_nWDA3If"
      },
      "execution_count": 53,
      "outputs": []
    },
    {
      "cell_type": "code",
      "source": [
        "# v7 Chooses n»2 layers to be modified and swaps their permutation for another\n",
        "\n",
        "def get_neighbour_v7(sigma):\n",
        "\n",
        "    # Make copy\n",
        "    new_sigma = sigma.copy()\n",
        "\n",
        "    # Pick the number (at least 2) of layers which will be changed\n",
        "    n = random.randint(2, 6)\n",
        "    print(n)\n",
        "\n",
        "    # Pick n different random layers\n",
        "    layers = random.sample([1,3,4,5,6,7], n)\n",
        "    print(layers)\n",
        "    # Swap scraps in chosen layers\n",
        "    for i in layers:\n",
        "        new_sigma[i-1] = tuple(choose_new_perm(i))\n",
        "\n",
        "    return new_sigma"
      ],
      "metadata": {
        "id": "vBD-v5QXI3CQ"
      },
      "execution_count": 54,
      "outputs": []
    },
    {
      "cell_type": "markdown",
      "metadata": {
        "id": "e1MPVC5rXqUo"
      },
      "source": [
        "##### **Implementing & runing the model**"
      ]
    },
    {
      "cell_type": "code",
      "execution_count": 55,
      "metadata": {
        "id": "FGsQEyQKXuPm"
      },
      "outputs": [],
      "source": [
        "def run_model(sigma, time_limit, left_scraps, right_scraps, grades_list, jobs_eaf1_list, jobs_eaf2_list):\n",
        "\n",
        "    global x\n",
        "\n",
        "    model.reset()\n",
        "    # OPTIONAL: Limit each iteration to time_limit seconds\n",
        "    #model.setParam(\"TimeLimit\", time_limit)\n",
        "\n",
        "    # Sets\n",
        "    L = left_scraps # Use the passed left_scraps argument\n",
        "    R = right_scraps # Use the passed right_scraps argument\n",
        "    S = sorted(left_scraps + right_scraps)\n",
        "    G = grades_list\n",
        "    P = list(range(len(jobs_eaf1_list)))\n",
        "    Q = list(range(len(jobs_eaf2_list)))\n",
        "\n",
        "    # Parameters\n",
        "    box_width = {s:box_width_dict[s] for s in S}\n",
        "    recipes = {g:get_recipe(g, sigma) for g in G}\n",
        "    total_grabs = {g:total_grabs_dict[g] for g in G}\n",
        "    # Comment for LPP:\n",
        "    max_time = {g:grades_max_time_dict[g]/1000 for g in G}\n",
        "    jobs_eaf1 = dict(zip(list(range(len(jobs_eaf1_list))), jobs_eaf1_list))\n",
        "    jobs_eaf2 = dict(zip(list(range(len(jobs_eaf2_list))), jobs_eaf2_list))\n",
        "\n",
        "    # Variables\n",
        "    midpoint = model.addVars(S, name=\"midpoint\")\n",
        "    x = model.addVars(S, S, vtype=GRB.BINARY, name=\"x\")\n",
        "    aux = model.addVars(S, S, lb=-gp.GRB.INFINITY, name=\"aux\")\n",
        "    dist = model.addVars(S, S, name=\"dist\")\n",
        "    timetoready = model.addVars(G, name=\"timetoready\")\n",
        "    U = model.addVar(name=\"U\")\n",
        "    V = model.addVar(name=\"V\")\n",
        "    W = model.addVar(name=\"W\")\n",
        "\n",
        "    # Constrains\n",
        "    model.addConstrs((x[i,j] + x[j,i] == 1 for i in L for j in L if j != i), name=\"sides1a\")\n",
        "    model.addConstrs((x[i,j] + x[j,i] == 1 for i in R for j in R if j != i), name=\"sides1b\")\n",
        "    model.addConstr((sum(x[i,i] for i in S) == 0), name=\"sides2\")\n",
        "    model.addConstrs((x[i,j] == 0 for i in L for j in R), name=\"sides3a\")\n",
        "    model.addConstrs((x[i,j] == 0 for i in R for j in L), name=\"sides3b\")\n",
        "    model.addConstrs((x[i,k] >= 1 - 10*(1-x[i,j]) - 10*(1-x[j,k]) for i in L for j in L for k in L), name=\"sides4a\")\n",
        "    model.addConstrs((x[i,k] >= 1 - 10*(1-x[i,j]) - 10*(1-x[j,k]) for i in R for j in R for k in R), name=\"sides4b\")\n",
        "    model.addConstrs((midpoint[s] == 20 + 1.7 + sum( (box_width[y] + 1.7)*x[y,s] for y in S) + box_width[s]/2\n",
        "        for s in S), name=\"midpoints\")\n",
        "    for i in S:\n",
        "        for j in S:\n",
        "            model.addConstr(aux[i, j] == midpoint[i] - midpoint[j], name=f'distanceaux_{i}_{j}')\n",
        "            model.addConstr(dist[i,j] == abs_(aux[i,j]), name=f'distance_{i}_{j}')\n",
        "    # Comment for LPP:\n",
        "    model.addConstrs((timetoready[g] <= max_time[g] for g in G), name=\"maxtime\")\n",
        "    model.addConstrs((timetoready[g] ==\n",
        "        (6.2 + 2*1.47 + 0.67*total_grabs[g] + (midpoint[recipes[g][0]] + midpoint[recipes[g][-1]])/60 + sum( dist[recipes[g][i],recipes[g][i+1]]\n",
        "        for i in range(len(recipes[g])-1))/40) for g in G), name=\"time\")\n",
        "    model.addConstr((U == sum( timetoready[jobs_eaf1[p]] for p in P)), name=\"totaltime1\")\n",
        "    model.addConstr((V == sum( timetoready[jobs_eaf2[q]] for q in Q)), name=\"totaltime2\")\n",
        "    model.addConstr((U <= W), name = \"totaltimeW1\")\n",
        "    model.addConstr((V <= W), name = \"totaltimeW2\");\n",
        "\n",
        "    # Objective function\n",
        "    model.setObjective(W, GRB.MINIMIZE)\n",
        "\n",
        "    # Run model\n",
        "    model.optimize()\n",
        "\n",
        "    # do IIS if the model is infeasible\n",
        "    if model.Status == GRB.INFEASIBLE:\n",
        "        model.computeIIS()\n",
        "\n",
        "    # Output results\n",
        "    new_t = W.X\n",
        "    new_output = model.getVars()\n",
        "\n",
        "    print(f'Sigma: {sigma}')\n",
        "    print(f'Time: {new_t}')\n",
        "\n",
        "    left_precedences = get_precedences(left_scraps)\n",
        "    new_left_row = print_row(left_scraps, left_precedences)\n",
        "    #print(f'Left row: {new_left_row}')\n",
        "    right_precedences = get_precedences(right_scraps)\n",
        "    new_right_row = print_row(right_scraps, right_precedences)\n",
        "    #print(f'Right row: {new_right_row}')\n",
        "\n",
        "    return new_t, new_output, new_left_row, new_right_row"
      ]
    },
    {
      "cell_type": "markdown",
      "metadata": {
        "id": "rQRfyP9_XFpw"
      },
      "source": [
        "##### **Making the decision**"
      ]
    },
    {
      "cell_type": "code",
      "execution_count": 56,
      "metadata": {
        "id": "bHyG0u86SBOJ"
      },
      "outputs": [],
      "source": [
        "def get_decision(current_t, current_sigma, current_output, current_left_row, current_right_row,\n",
        "                 new_t, new_sigma, new_output, new_left_row, new_right_row, beta, step):\n",
        "\n",
        "    if new_t < current_t:\n",
        "        current_t = new_t\n",
        "        current_sigma = new_sigma\n",
        "        current_output = new_output\n",
        "        current_left_row = new_left_row\n",
        "        current_right_row = new_right_row\n",
        "        print('New best solution found!')\n",
        "        print(f'New left row: {current_left_row}')\n",
        "        print(f'New right row: {current_right_row}')\n",
        "    else:\n",
        "        p = random.random()\n",
        "        if p < math.exp((current_t - new_t)/5*(1+beta*step)):\n",
        "            current_t = new_t\n",
        "            current_sigma = new_sigma\n",
        "            current_output = new_output\n",
        "            current_left_row = new_left_row\n",
        "            current_right_row = new_right_row\n",
        "            print('p update!')\n",
        "            print(f'New left row: {current_left_row}')\n",
        "            print(f'New right row: {current_right_row}')\n",
        "        else:\n",
        "            print('No update!')\n",
        "            #pass\n",
        "\n",
        "    return current_t, current_sigma, current_output, current_left_row, current_right_row"
      ]
    },
    {
      "cell_type": "markdown",
      "metadata": {
        "id": "ImC_hYlvXTcB"
      },
      "source": [
        "##### **Simulated Annealing algorithm**"
      ]
    },
    {
      "cell_type": "code",
      "execution_count": 57,
      "metadata": {
        "id": "myRZFrJb2zXf"
      },
      "outputs": [],
      "source": [
        "currentWs = []\n",
        "newWs = []"
      ]
    },
    {
      "cell_type": "code",
      "execution_count": 58,
      "metadata": {
        "id": "8XNMiYr5XZKQ"
      },
      "outputs": [],
      "source": [
        "def simulated_annealing(prod_plan, split, n_iterations, time_limit, neighbour_fn, beta, sigma):\n",
        "\n",
        "    # Prod plan\n",
        "    if prod_plan == 'RPP':\n",
        "        grades_list = grades_list_RPP\n",
        "        jobs_eaf1_list = jobs_eaf1_list_RPP\n",
        "        jobs_eaf2_list = jobs_eaf2_list_RPP\n",
        "    else:\n",
        "        grades_list = grades_list_LPP\n",
        "        jobs_eaf1_list = jobs_eaf1_list_LPP\n",
        "        jobs_eaf2_list = jobs_eaf2_list_LPP\n",
        "\n",
        "    # Split\n",
        "    left_scraps, right_scraps = get_scraps(split)\n",
        "\n",
        "    # Initial sigma\n",
        "    current_sigma = sigma\n",
        "\n",
        "    # Intial solution\n",
        "    current_t, current_output, current_left_row, current_right_row = run_model(current_sigma, time_limit, left_scraps, right_scraps,\n",
        "                                                                               grades_list, jobs_eaf1_list, jobs_eaf2_list)\n",
        "    currentWs.append(current_t)\n",
        "    newWs.append(current_t)\n",
        "    print(f'Left row: {current_left_row}')\n",
        "    print(f'Right row: {current_right_row}')\n",
        "\n",
        "    for i in range(n_iterations):\n",
        "\n",
        "        print(f'\\nIteration {i}')\n",
        "\n",
        "        # Neighbout fn\n",
        "        if neighbour_fn == 'v1':\n",
        "          new_sigma = get_neighbour_v1(current_sigma)\n",
        "        elif neighbour_fn == 'v2':\n",
        "          new_sigma = get_neighbour_v2(current_sigma)\n",
        "        elif neighbour_fn == 'v3':\n",
        "          new_sigma = get_neighbour_v3(current_sigma)\n",
        "        elif neighbour_fn == 'v4':\n",
        "          new_sigma = get_neighbour_v4(current_sigma)\n",
        "        elif neighbour_fn == 'v5':\n",
        "          new_sigma = get_neighbour_v5(current_sigma)\n",
        "        elif neighbour_fn == 'v6':\n",
        "          new_sigma = get_neighbour_v6(current_sigma)\n",
        "        else:\n",
        "          new_sigma = get_neighbour_v7(current_sigma)\n",
        "\n",
        "        new_t, new_output, new_left_row, new_right_row = run_model(new_sigma, time_limit, left_scraps, right_scraps,\n",
        "                                                                   grades_list, jobs_eaf1_list, jobs_eaf2_list)\n",
        "\n",
        "        print(f'Current W: {current_t}')\n",
        "        print(f'New W: {new_t}')\n",
        "        print(f'Current sigma: {current_sigma}')\n",
        "        print(f'New sigma: {new_sigma}')\n",
        "        print(f'Current left row: {current_left_row}')\n",
        "        print(f'New left row: {new_left_row}')\n",
        "        print(f'Current right row: {current_right_row}')\n",
        "        print(f'New right row: {new_right_row}')\n",
        "\n",
        "        current_t, current_sigma, current_output, current_left_row, current_right_row = get_decision(current_t, current_sigma, current_output,\n",
        "                                                                                                     current_left_row, current_right_row,\n",
        "                                                                                                     new_t, new_sigma, new_output,\n",
        "                                                                                                     new_left_row, new_right_row, beta, i)\n",
        "        currentWs.append(current_t)\n",
        "        newWs.append(new_t)\n",
        "        print(f'Current W: {current_t}')\n",
        "        print(f'Current sigma: {current_sigma}')\n",
        "        print(f'Current left row: {current_left_row}')\n",
        "        print(f'Current right row: {current_right_row}')\n",
        "\n",
        "    return current_t, current_sigma, current_output, current_left_row, current_right_row"
      ]
    },
    {
      "cell_type": "code",
      "execution_count": 58,
      "metadata": {
        "id": "OTWJBp2ouZMl"
      },
      "outputs": [],
      "source": []
    },
    {
      "cell_type": "markdown",
      "source": [
        "##### **SA parameters**"
      ],
      "metadata": {
        "id": "Mxhzi5XKGrxb"
      }
    },
    {
      "cell_type": "code",
      "source": [
        "prod_plan = 'RPP'                                                               # RPP / LPP\n",
        "split = 'split3_05'                                                             # split0 / split1 / split2a / split2b / split3_xx\n",
        "n_iterations = 0\n",
        "time_limit = None                                                               # OPTIONAL; in seconds\n",
        "beta = 0.05\n",
        "neighbour_fn = 'v1'                                                             # v1 / v2 / v3 / v4 / v5 / v6\n",
        "\n",
        "\n",
        "# Layer permutations in increasing order\n",
        "sigma0 = [perms[i][0] for i in range(7)]\n",
        "\n",
        "# Random inital sigma\n",
        "sigma = [random.choice(perms[i]) for i in range(7)]\n"
      ],
      "metadata": {
        "id": "2MwPrGHkGuz1"
      },
      "execution_count": 59,
      "outputs": []
    },
    {
      "cell_type": "code",
      "source": [
        "start_time = datetime.now()"
      ],
      "metadata": {
        "id": "ihxrwWp0K8f2"
      },
      "execution_count": 60,
      "outputs": []
    },
    {
      "cell_type": "code",
      "execution_count": 61,
      "metadata": {
        "id": "4P4MJszbXZBc",
        "colab": {
          "base_uri": "https://localhost:8080/",
          "height": 0
        },
        "outputId": "684b71c0-eaa6-4aad-8f2e-6e36c29e33db"
      },
      "outputs": [
        {
          "output_type": "stream",
          "name": "stdout",
          "text": [
            "Discarded solution information\n",
            "Gurobi Optimizer version 12.0.2 build v12.0.2rc0 (linux64 - \"Ubuntu 22.04.4 LTS\")\n",
            "\n",
            "CPU model: Intel(R) Xeon(R) CPU @ 2.20GHz, instruction set [SSE2|AVX|AVX2]\n",
            "Thread count: 1 physical cores, 2 logical processors, using up to 2 threads\n",
            "\n",
            "Academic license 2619152 - for non-commercial use only - registered to fi___@isel.pt\n",
            "Optimize a model with 10369 rows, 3121 columns and 29585 nonzeros\n",
            "Model fingerprint: 0x55cc992d\n",
            "Model has 1024 simple general constraints\n",
            "  1024 ABS\n",
            "Variable types: 2097 continuous, 1024 integer (1024 binary)\n",
            "Coefficient statistics:\n",
            "  Matrix range     [2e-02, 7e+01]\n",
            "  Objective range  [1e+00, 1e+00]\n",
            "  Bounds range     [1e+00, 1e+00]\n",
            "  RHS range        [1e+00, 5e+03]\n",
            "Presolve removed 7853 rows and 2634 columns\n",
            "Presolve time: 0.12s\n",
            "Presolved: 2516 rows, 487 columns, 7892 nonzeros\n",
            "Variable types: 165 continuous, 322 integer (296 binary)\n",
            "Found heuristic solution: objective 4281.2670833\n",
            "Found heuristic solution: objective 4158.6937500\n",
            "Extra simplex iterations after uncrush: 27\n",
            "\n",
            "Root relaxation: objective 3.056452e+03, 637 iterations, 0.10 seconds (0.02 work units)\n",
            "\n",
            "    Nodes    |    Current Node    |     Objective Bounds      |     Work\n",
            " Expl Unexpl |  Obj  Depth IntInf | Incumbent    BestBd   Gap | It/Node Time\n",
            "\n",
            "     0     0 3056.45174    0  151 4158.69375 3056.45174  26.5%     -    0s\n",
            "H    0     0                    4070.3820833 3056.45174  24.9%     -    0s\n",
            "H    0     0                    4023.6495833 3056.45174  24.0%     -    0s\n",
            "     0     0 3056.55160    0  166 4023.64958 3056.55160  24.0%     -    0s\n",
            "     0     0 3056.57295    0  153 4023.64958 3056.57295  24.0%     -    0s\n",
            "H    0     0                    3983.1837500 3056.57295  23.3%     -    0s\n",
            "     0     0 3056.57295    0  146 3983.18375 3056.57295  23.3%     -    0s\n",
            "     0     0 3056.57295    0  149 3983.18375 3056.57295  23.3%     -    0s\n",
            "H    0     0                    3968.6745833 3056.57295  23.0%     -    0s\n",
            "H    0     0                    3959.8995833 3056.57295  22.8%     -    0s\n",
            "     0     0 3056.57295    0  149 3959.89958 3056.57295  22.8%     -    0s\n",
            "     0     0 3056.60816    0  150 3959.89958 3056.60816  22.8%     -    1s\n",
            "H    0     0                    3868.1712500 3056.60816  21.0%     -    1s\n",
            "     0     0 3056.60816    0  149 3868.17125 3056.60816  21.0%     -    1s\n",
            "     0     0 3056.60816    0  147 3868.17125 3056.60816  21.0%     -    1s\n",
            "H    0     0                    3839.6095833 3056.60816  20.4%     -    1s\n",
            "H    0     0                    3811.5595833 3056.60816  19.8%     -    1s\n",
            "     0     0 3056.60816    0  147 3811.55958 3056.60816  19.8%     -    1s\n",
            "     0     0 3056.60816    0  150 3811.55958 3056.60816  19.8%     -    1s\n",
            "H    0     0                    3802.5595833 3056.60816  19.6%     -    1s\n",
            "     0     0 3056.60816    0  147 3802.55958 3056.60816  19.6%     -    1s\n",
            "     0     0 3056.60816    0  147 3802.55958 3056.60816  19.6%     -    1s\n",
            "H    0     0                    3764.8504167 3056.60816  18.8%     -    1s\n",
            "H    0     0                    3648.2479167 3056.60816  16.2%     -    1s\n",
            "H    0     0                    3638.4412500 3056.60816  16.0%     -    1s\n",
            "     0     0 3056.60816    0  147 3638.44125 3056.60816  16.0%     -    1s\n",
            "     0     0 3056.60816    0  147 3638.44125 3056.60816  16.0%     -    1s\n",
            "     0     0 3056.60816    0  147 3638.44125 3056.60816  16.0%     -    2s\n",
            "     0     2 3056.60816    0  147 3638.44125 3056.60816  16.0%     -    2s\n",
            "H   26    26                    3620.6937500 3073.09693  15.1%   334    3s\n",
            "H   27    27                    3612.8612500 3073.09693  14.9%   325    3s\n",
            "H   52    52                    3612.7712500 3073.09693  14.9%   228    3s\n",
            "H   54    54                    3496.4787500 3073.09693  12.1%   221    3s\n",
            "H   78    76                    3452.2604167 3073.09693  11.0%   190    4s\n",
            "H   78    76                    3448.7679167 3073.09693  10.9%   190    4s\n",
            "H   81    77                    3422.9904167 3073.09693  10.2%   186    4s\n",
            "H  104    90                    3362.6679167 3073.09693  8.61%   157    4s\n",
            "   120   104 3352.62488   13  165 3362.66792 3073.09693  8.61%   168    5s\n",
            "H  130   100                    3352.3329167 3083.07553  8.03%   170    5s\n",
            "H  156   124                    3348.6279167 3083.07553  7.93%   167    5s\n",
            "H  156   122                    3346.5629167 3083.07553  7.87%   167    5s\n",
            "H  186   128                    3344.8079167 3109.48842  7.04%   179    6s\n",
            "H  243   141                    3343.4970833 3113.60055  6.88%   162    7s\n",
            "H  276   150                    3342.1870833 3137.36629  6.13%   174    7s\n",
            "   390   190 3208.42088    5  174 3342.18708 3151.28476  5.71%   169   10s\n",
            "H  397   184                    3340.1245833 3151.28476  5.65%   168   10s\n",
            "   680   216 3312.83241   17   90 3340.12458 3209.61629  3.91%   175   15s\n",
            "  1002   225     cutoff   16      3340.12458 3251.35342  2.66%   178   20s\n",
            "  1288   278 3320.96085   22  147 3340.12458 3273.61939  1.99%   171   25s\n",
            "  1427   296 3326.85978   22  162 3340.12458 3273.61939  1.99%   178   30s\n",
            "  1721   280 3327.88350   30  113 3340.12458 3282.08820  1.74%   172   35s\n",
            "  2161   194 3336.51542   36   35 3340.12458 3298.10496  1.26%   157   40s\n",
            "  2613   156 3339.58241   32   75 3340.12458 3313.33517  0.80%   149   45s\n",
            "\n",
            "Cutting planes:\n",
            "  Implied bound: 2\n",
            "  MIR: 6\n",
            "  Flow cover: 1\n",
            "  Inf proof: 1\n",
            "\n",
            "Explored 3174 nodes (425591 simplex iterations) in 49.27 seconds (30.95 work units)\n",
            "Thread count was 2 (of 2 available processors)\n",
            "\n",
            "Solution count 10: 3340.12 3342.19 3342.19 ... 3362.67\n",
            "\n",
            "Optimal solution found (tolerance 1.00e-04)\n",
            "Best objective 3.340124583333e+03, best bound 3.340096098626e+03, gap 0.0009%\n",
            "Sigma: [(6, 8, 10, 12, 13, 18, 26), (28,), (4, 5), (0, 1, 2, 3, 7, 9, 11, 22, 23), (15, 17, 29, 30), (14, 16, 21, 31), (19, 20, 24, 25, 27)]\n",
            "Time: 3340.124583333332\n",
            "Left row: [2, 10, 11, 31, 8, 6, 0, 28, 9, 20, 14, 15, 24, 23, 12]\n",
            "Right row: [26, 30, 18, 4, 5, 1, 3, 7, 27, 16, 17, 19, 29, 21, 25, 13, 22]\n"
          ]
        }
      ],
      "source": [
        "# run SA\n",
        "\n",
        "final_t, final_sigma, final_output, final_left_row, final_right_row = simulated_annealing(prod_plan, split, n_iterations, time_limit,\n",
        "                                                                                          neighbour_fn, beta, sigma0)\n"
      ]
    },
    {
      "cell_type": "code",
      "execution_count": 61,
      "metadata": {
        "id": "jZMgzHwGydCS"
      },
      "outputs": [],
      "source": []
    },
    {
      "cell_type": "markdown",
      "source": [
        "##### **SA results**"
      ],
      "metadata": {
        "id": "YkicijDJHJqD"
      }
    },
    {
      "cell_type": "code",
      "source": [
        "end_time = datetime.now()\n",
        "runtime = (end_time - start_time).total_seconds()\n",
        "print('Runtime (sec): {}'.format(runtime))"
      ],
      "metadata": {
        "colab": {
          "base_uri": "https://localhost:8080/",
          "height": 0
        },
        "id": "kbdP7Hb2Iy3q",
        "outputId": "2b01baa8-5721-43ed-9986-4aa12beaf362"
      },
      "execution_count": 62,
      "outputs": [
        {
          "output_type": "stream",
          "name": "stdout",
          "text": [
            "Runtime (sec): 50.259908\n"
          ]
        }
      ]
    },
    {
      "cell_type": "code",
      "source": [
        "print(f'Prod plan: {prod_plan}')\n",
        "print(f'Split: {split}')\n",
        "print(f'Initial sigma: sigma0')                                                 # sigma0 / random\n",
        "if n_iterations != 0:\n",
        "    print(f'Number of iterations: {n_iterations}')\n",
        "    print(f'Time limit: {time_limit}')\n",
        "    print(f'beta: {beta}')\n",
        "    print(f'Neighbiour fn: {neighbour_fn}')\n",
        "    print(f'Seed: {k}')"
      ],
      "metadata": {
        "id": "HRQFwTMbBkuh",
        "colab": {
          "base_uri": "https://localhost:8080/",
          "height": 0
        },
        "outputId": "5ee5cb2d-d04e-4df2-d8fb-db1f07cb6e9b"
      },
      "execution_count": 63,
      "outputs": [
        {
          "output_type": "stream",
          "name": "stdout",
          "text": [
            "Prod plan: RPP\n",
            "Split: split3_05\n",
            "Initial sigma: sigma0\n"
          ]
        }
      ]
    },
    {
      "cell_type": "code",
      "execution_count": 64,
      "metadata": {
        "id": "JXjKHcLfLV9-",
        "colab": {
          "base_uri": "https://localhost:8080/",
          "height": 0
        },
        "outputId": "13e00bd2-514d-4ffd-b9f7-18e96d8ec9be"
      },
      "outputs": [
        {
          "output_type": "stream",
          "name": "stdout",
          "text": [
            "Final W: 3340.124583333332\n",
            "Final sigma: [(6, 8, 10, 12, 13, 18, 26), (28,), (4, 5), (0, 1, 2, 3, 7, 9, 11, 22, 23), (15, 17, 29, 30), (14, 16, 21, 31), (19, 20, 24, 25, 27)]\n",
            "Final left row: [2, 10, 11, 31, 8, 6, 0, 28, 9, 20, 14, 15, 24, 23, 12]\n",
            "Final right row: [26, 30, 18, 4, 5, 1, 3, 7, 27, 16, 17, 19, 29, 21, 25, 13, 22]\n"
          ]
        }
      ],
      "source": [
        "print(f'Final W: {final_t}')\n",
        "print(f'Final sigma: {final_sigma}')\n",
        "print(f'Final left row: {final_left_row}')\n",
        "print(f'Final right row: {final_right_row}')"
      ]
    },
    {
      "cell_type": "code",
      "execution_count": 65,
      "metadata": {
        "id": "ePoznHyjNo4N",
        "colab": {
          "base_uri": "https://localhost:8080/",
          "height": 0
        },
        "outputId": "0616926a-8c12-4cff-ccce-310bf0b4e2a8"
      },
      "outputs": [
        {
          "output_type": "stream",
          "name": "stdout",
          "text": [
            "currentWs = [3340.124583333332]\n",
            "newWs = [3340.124583333332]\n"
          ]
        }
      ],
      "source": [
        "print(f'currentWs = {currentWs}')\n",
        "print(f'newWs = {newWs}')"
      ]
    },
    {
      "cell_type": "code",
      "execution_count": 65,
      "metadata": {
        "id": "O2STWXkAzqqo"
      },
      "outputs": [],
      "source": []
    },
    {
      "cell_type": "code",
      "execution_count": 65,
      "metadata": {
        "id": "LbNu8TX518C0"
      },
      "outputs": [],
      "source": []
    }
  ],
  "metadata": {
    "colab": {
      "provenance": [],
      "toc_visible": true
    },
    "kernelspec": {
      "display_name": "Python 3 (ipykernel)",
      "language": "python",
      "name": "python3"
    },
    "language_info": {
      "codemirror_mode": {
        "name": "ipython",
        "version": 3
      },
      "file_extension": ".py",
      "mimetype": "text/x-python",
      "name": "python",
      "nbconvert_exporter": "python",
      "pygments_lexer": "ipython3",
      "version": "3.10.12"
    }
  },
  "nbformat": 4,
  "nbformat_minor": 0
}