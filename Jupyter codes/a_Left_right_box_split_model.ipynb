{
  "cells": [
    {
      "cell_type": "markdown",
      "source": [
        "# **Layout Optimization Model for Multi-Recipe and Multi-Route Problems with Application to the Design of a Steel Factory**\n",
        "\n",
        "MILP model for optimizing the left / right split of scrap types' boxes"
      ],
      "metadata": {
        "id": "GyP4NFx664JV"
      }
    },
    {
      "cell_type": "code",
      "source": [
        "import pandas as pd"
      ],
      "metadata": {
        "id": "7LVpUAYDvEQo"
      },
      "execution_count": 1,
      "outputs": []
    },
    {
      "cell_type": "code",
      "source": [
        "from datetime import datetime"
      ],
      "metadata": {
        "id": "HDWjDJ_TFjzT"
      },
      "execution_count": 2,
      "outputs": []
    },
    {
      "cell_type": "code",
      "source": [
        "from IPython.core.magic import register_cell_magic\n",
        "\n",
        "@register_cell_magic\n",
        "def skip(line, cell):\n",
        "    return"
      ],
      "metadata": {
        "id": "w0BpSLKe0Q6n"
      },
      "execution_count": 3,
      "outputs": []
    },
    {
      "cell_type": "markdown",
      "metadata": {
        "id": "SfIvpc3cipSW"
      },
      "source": [
        "#### DATA"
      ]
    },
    {
      "cell_type": "markdown",
      "metadata": {
        "id": "OtJXj9-lkbk5"
      },
      "source": [
        "##### **Scrapyard data**"
      ]
    },
    {
      "cell_type": "markdown",
      "metadata": {
        "id": "xjsCFrdikbk7"
      },
      "source": [
        "Width of the 40m deep box for each scrap type"
      ]
    },
    {
      "cell_type": "code",
      "execution_count": 4,
      "metadata": {
        "id": "OmuHKs4Nkbk8"
      },
      "outputs": [],
      "source": [
        "box_width_dict = {0: 11.4, 1: 10.0, 2: 11.7, 3: 10.0, 4: 10.0, 5: 10.0, 6: 23.4,\n",
        "                  7: 10.0, 8: 34.4, 9: 12.4, 10: 10.0, 11: 10.0, 12: 38.3,\n",
        "                  13: 26.5, 14: 56.9, 15: 43.6, 16: 27.5, 17: 14.3, 18: 69.3,\n",
        "                  19: 27.2, 20: 56.1, 21: 38.4, 22: 26.0, 23: 10.0, 24: 33.6,\n",
        "                  25: 31.3, 26: 14.4, 27: 30.9, 28: 16.0, 29: 10.0, 30: 14.3,\n",
        "                  31: 15.5}"
      ]
    },
    {
      "cell_type": "markdown",
      "metadata": {
        "id": "xG5Mro7GimoU"
      },
      "source": [
        "##### **Grades data**"
      ]
    },
    {
      "cell_type": "markdown",
      "metadata": {
        "id": "k8F6xs-8ltg4"
      },
      "source": [
        "Each grade contains a given quantity of certain scrap types"
      ]
    },
    {
      "cell_type": "code",
      "source": [
        "grade_ingredients_dict = {'G01': [6, 8, 4, 5, 0, 1, 2, 7, 9, 16, 20],\n",
        " 'G02': [6, 8, 4, 5, 0, 1, 3, 7, 16, 20],\n",
        " 'G03': [6, 8, 4, 0, 3, 7, 9, 16, 20],\n",
        " 'G04': [6, 8, 18, 4, 5, 7, 9, 11, 17, 30, 16, 19, 20, 27],\n",
        " 'G05': [8, 5, 0, 1, 7, 17, 16, 20],\n",
        " 'G06': [6, 8, 0, 1, 3, 9, 16, 20],\n",
        " 'G07': [6, 8, 18, 4, 5, 0, 1, 3, 16, 20],\n",
        " 'G08': [8, 28, 22, 15, 17, 14, 16, 21, 19, 24, 27],\n",
        " 'G09': [12, 13, 15, 29, 14, 19, 24],\n",
        " 'G10': [6, 8, 7, 15, 14, 19, 24],\n",
        " 'G11': [22, 23, 15, 21, 19, 20, 24],\n",
        " 'G12': [12, 13, 18, 28, 0, 1, 2, 3, 29, 30, 16, 31, 20, 24],\n",
        " 'G13': [12, 13, 15, 29, 19, 24, 25],\n",
        " 'G14': [12, 15, 29, 14, 19, 24],\n",
        " 'G15': [6, 8, 28, 5, 16, 19, 20],\n",
        " 'G16': [6, 8, 5, 7, 11, 15, 29, 14, 20, 24],\n",
        " 'G17': [12, 13, 15, 29, 14, 19, 24, 25],\n",
        " 'G18': [6, 8, 12, 13, 0, 9, 15, 29, 14, 19, 24, 25],\n",
        " 'G19': [12, 15, 20, 24],\n",
        " 'G20': [8, 12, 13, 15, 29, 19, 24, 25],\n",
        " 'G21': [6, 8, 10, 4, 5, 9, 11, 15, 20, 24],\n",
        " 'G22': [8, 10, 5, 7, 15, 29, 14, 20, 24],\n",
        " 'G23': [8, 12, 15, 20],\n",
        " 'G24': [6, 8, 12, 5, 7, 9, 15, 14, 20, 24],\n",
        " 'G25': [6, 8, 4, 5, 7, 11, 15, 14, 20, 24],\n",
        " 'G26': [12, 13, 15, 20, 24, 25],\n",
        " 'G27': [6, 8, 10, 12, 4, 5, 7, 9, 15, 20, 24],\n",
        " 'G28': [6, 8, 5, 0, 3, 9, 17, 16, 20, 27],\n",
        " 'G29': [12, 23, 15, 21, 19, 24],\n",
        " 'G30': [12, 15, 29, 14, 21, 19, 24],\n",
        " 'G31': [12, 13, 23, 15, 29, 21, 19, 24, 25],\n",
        " 'G32': [12, 22, 15, 21, 19, 24, 25],\n",
        " 'G33': [12, 13, 22, 23, 15, 29, 14, 21, 19, 24, 25],\n",
        " 'G34': [6, 8, 5, 0, 1, 2, 3, 17, 16, 20],\n",
        " 'G35': [8, 10, 28, 5, 16, 31, 20, 27],\n",
        " 'G36': [8, 10, 28, 4, 11, 15, 17, 16, 20, 27],\n",
        " 'G37': [6, 8, 18, 4, 5, 15, 30, 16, 20, 27],\n",
        " 'G38': [12, 15, 29, 14, 19, 24, 25],\n",
        " 'G39': [12, 22, 23, 15, 29, 21, 19, 24, 25],\n",
        " 'G40': [6, 8, 18, 28, 4, 7, 9, 15, 17, 16, 20, 27],\n",
        " 'G41': [8, 12, 13, 22, 15, 29, 14, 21, 19, 24, 25],\n",
        " 'G42': [12, 23, 15, 29, 14, 21, 19, 24],\n",
        " 'G43': [12, 13, 15, 21, 19, 24, 25],\n",
        " 'G44': [12, 15, 24, 25],\n",
        " 'G45': [23, 15, 21, 19, 20, 24],\n",
        " 'G46': [12, 13, 28, 15, 17, 29, 14, 16, 19, 24, 25],\n",
        " 'G47': [12, 15, 24],\n",
        " 'G48': [12, 0, 15, 29, 14, 24],\n",
        " 'G49': [12, 15, 29, 14, 24],\n",
        " 'G50': [8, 18, 28, 0, 2, 23, 17, 30, 16, 21, 20, 27],\n",
        " 'G51': [18, 26, 28, 16, 19],\n",
        " 'G52': [6, 8, 10, 12, 18, 28, 0, 2, 9, 16, 20, 25],\n",
        " 'G53': [12, 15, 14, 24, 25],\n",
        " 'G54': [12, 13, 15, 29, 14, 24],\n",
        " 'G55': [12, 15, 24, 25],\n",
        " 'G56': [6, 8, 18, 28, 0, 3, 9, 16, 20],\n",
        " 'G57': [12, 26, 19, 25],\n",
        " 'G58': [6, 8, 10, 28, 11, 16, 19, 24],\n",
        " 'G59': [6, 8, 4, 9, 11, 30, 16, 19, 24],\n",
        " 'G60': [8, 12, 13, 28, 16, 19, 20],\n",
        " 'G61': [8, 10, 18, 4, 5, 11, 17, 16, 19, 24],\n",
        " 'G62': [12, 15, 29, 14, 24],\n",
        " 'G63': [15, 14, 20, 24],\n",
        " 'G64': [12, 13, 15, 14, 19, 24],\n",
        " 'G65': [12, 13, 15, 29, 14, 19, 24, 25],\n",
        " 'G66': [12, 13, 15, 14, 19, 24, 25],\n",
        " 'G67': [15, 29, 21, 24],\n",
        " 'G68': [6, 8, 12, 5, 15, 19, 24],\n",
        " 'G69': [12, 13, 21, 19, 24, 25],\n",
        " 'G70': [12, 22, 21, 20, 24],\n",
        " 'G71': [12, 15, 16, 24, 25],\n",
        " 'G72': [0, 3, 15, 14, 16, 24],\n",
        " 'G73': [12, 18, 0, 1, 15, 14, 16, 24, 27],\n",
        " 'G74': [12, 13, 15, 16, 24],\n",
        " 'G75': [8, 4, 5, 0, 1, 2, 7, 9, 16, 20],\n",
        " 'G76': [6, 8, 0, 3, 16, 20],\n",
        " 'G77': [8, 4, 0, 1, 3, 9, 16, 20],\n",
        " 'G78': [6, 8, 4, 0, 3, 7, 9, 16, 20],\n",
        " 'G79': [6, 8, 18, 28, 0, 1, 16, 20],\n",
        " 'G80': [18, 0, 2, 17, 30, 16, 31, 20, 27],\n",
        " 'G81': [18, 28, 0, 17, 30, 16, 31, 20, 27],\n",
        " 'G82': [0, 3, 30, 16, 20, 27],\n",
        " 'G83': [18, 0, 17, 30, 16, 20]}"
      ],
      "metadata": {
        "id": "RVfOXJTflthB"
      },
      "execution_count": 5,
      "outputs": []
    },
    {
      "cell_type": "markdown",
      "metadata": {
        "id": "7P92CQm4lthG"
      },
      "source": [
        "The quantity of the scrap type required determines how many grabs the crane has to do"
      ]
    },
    {
      "cell_type": "code",
      "source": [
        "total_grabs_dict = {'G01': 25, 'G02': 25, 'G03': 28, 'G04': 36, 'G05': 32, 'G06': 26, 'G07': 32, 'G08': 46, 'G09': 33, 'G10': 41,\n",
        "                    'G11': 27, 'G12': 47, 'G13': 30, 'G14': 30, 'G15': 31, 'G16': 40, 'G17': 32, 'G18': 44, 'G19': 26, 'G20': 33,\n",
        "                    'G21': 38, 'G22': 37, 'G23': 28, 'G24': 37, 'G25': 37, 'G26': 30, 'G27': 36, 'G28': 34, 'G29': 41, 'G30': 41,\n",
        "                    'G31': 42, 'G32': 39, 'G33': 38, 'G34': 40, 'G35': 43, 'G36': 46, 'G37': 45, 'G38': 31, 'G39': 40, 'G40': 47,\n",
        "                    'G41': 37, 'G42': 32, 'G43': 34, 'G44': 22, 'G45': 24, 'G46': 34, 'G47': 22, 'G48': 23, 'G49': 21, 'G50': 28,\n",
        "                    'G51': 41, 'G52': 43, 'G53': 23, 'G54': 25, 'G55': 22, 'G56': 31, 'G57': 22, 'G58': 42, 'G59': 39, 'G60': 33,\n",
        "                    'G61': 38, 'G62': 21, 'G63': 16, 'G64': 30, 'G65': 32, 'G66': 34, 'G67': 27, 'G68': 24, 'G69': 38, 'G70': 32,\n",
        "                    'G71': 22, 'G72': 26, 'G73': 31, 'G74': 23, 'G75': 26, 'G76': 25, 'G77': 27, 'G78': 28, 'G79': 28, 'G80': 32,\n",
        "                    'G81': 32, 'G82': 33, 'G83': 32}"
      ],
      "metadata": {
        "id": "Bc0c3IKSlthJ"
      },
      "execution_count": 6,
      "outputs": []
    },
    {
      "cell_type": "markdown",
      "source": [
        "Based on the production plan, there is a maximum time available for the loading of each grade"
      ],
      "metadata": {
        "id": "6ViP0jz6lthK"
      }
    },
    {
      "cell_type": "code",
      "source": [
        "grades_max_time_dict = {'G07': 2821000.0, 'G08': 3600000.0, 'G09': 4464000.0, 'G11': 2581000.0,\n",
        "                        'G13': 3541000.0, 'G28': 5076000.0, 'G40': 4260000.0, 'G44': 3541000.0,\n",
        "                        'G46': 4146331.0, 'G47': 3421000.0, 'G64': 3990000.0, 'G65': 3601000.0,\n",
        "                        'G67': 3298718.0, 'G78': 2581000.0}"
      ],
      "metadata": {
        "id": "CcrGX-jSlthN"
      },
      "execution_count": 7,
      "outputs": []
    },
    {
      "cell_type": "markdown",
      "source": [
        "##### **Scrap types data**"
      ],
      "metadata": {
        "id": "hQMnMdtKrJzo"
      }
    },
    {
      "cell_type": "markdown",
      "source": [
        "The layer of each scrap type"
      ],
      "metadata": {
        "id": "7QWxtnwL7jZq"
      }
    },
    {
      "cell_type": "code",
      "source": [
        "scrap_layer_dict = {6: 1.0, 8: 1.0, 10: 1.0, 12: 1.0, 13: 1.0, 18: 1.0, 26: 1.0, 28: 2.0, 4: 3.0, 5: 3.0,\n",
        "                    0: 4.0, 1: 4.0, 2: 4.0, 3: 4.0, 7: 4.0, 9: 4.0, 11: 4.0, 22: 4.0, 23: 4.0, 15: 5.0,\n",
        "                    17: 5.0, 29: 5.0, 30: 5.0, 14: 6.0, 16: 6.0, 21: 6.0, 31: 6.0, 19: 7.0, 20: 7.0, 24: 7.0,\n",
        "                    25: 7.0, 27: 7.0}"
      ],
      "metadata": {
        "id": "adnZAoFo7koS"
      },
      "execution_count": 8,
      "outputs": []
    },
    {
      "cell_type": "markdown",
      "metadata": {
        "id": "FpjbV8YElthO"
      },
      "source": [
        "##### **Production plan data**"
      ]
    },
    {
      "cell_type": "code",
      "execution_count": 9,
      "metadata": {
        "id": "yPC6MrL5lthQ"
      },
      "outputs": [],
      "source": [
        "jobs_eaf1_list = ['G11', 'G11', 'G11', 'G40', 'G40', 'G40', 'G11', 'G11', 'G11', 'G28', 'G28', 'G28', 'G09', 'G09', 'G09',\n",
        "                  'G11', 'G11', 'G11', 'G07', 'G07', 'G07', 'G28', 'G28', 'G28', 'G46', 'G46', 'G46', 'G46', 'G46', 'G07',\n",
        "                  'G07', 'G07', 'G47', 'G47', 'G47', 'G47', 'G47', 'G47', 'G67', 'G67', 'G67', 'G67', 'G67', 'G78', 'G78',\n",
        "                  'G78', 'G13', 'G13', 'G13', 'G13', 'G13', 'G13', 'G64', 'G64', 'G64', 'G64', 'G64', 'G65', 'G65', 'G65',\n",
        "                  'G65', 'G65', 'G65', 'G44', 'G44', 'G44', 'G44', 'G44', 'G67', 'G67', 'G67', 'G67', 'G67', 'G47', 'G47',\n",
        "                  'G47', 'G47', 'G47', 'G11', 'G11', 'G11', 'G11', 'G11', 'G65', 'G65', 'G65']"
      ]
    },
    {
      "cell_type": "code",
      "execution_count": 10,
      "metadata": {
        "id": "x6-LGFuclthU"
      },
      "outputs": [],
      "source": [
        "jobs_eaf2_list = ['G11', 'G11', 'G11', 'G40', 'G40', 'G40', 'G11', 'G11', 'G11', 'G28', 'G28', 'G28', 'G09', 'G09', 'G09',\n",
        "                  'G11', 'G11', 'G11', 'G07', 'G07', 'G07', 'G28', 'G28', 'G28', 'G07', 'G07', 'G78', 'G78', 'G78', 'G08',\n",
        "                  'G08', 'G08', 'G47', 'G47', 'G78', 'G78', 'G78', 'G11', 'G11', 'G65', 'G65', 'G65']"
      ]
    },
    {
      "cell_type": "code",
      "source": [
        "# Grades that appear in the production plan\n",
        "grades_list = ['G07', 'G08', 'G09', 'G11', 'G13', 'G28', 'G40', 'G44', 'G46', 'G47', 'G64', 'G65', 'G67', 'G78']"
      ],
      "metadata": {
        "id": "JSazcuWFlthW"
      },
      "execution_count": 11,
      "outputs": []
    },
    {
      "cell_type": "code",
      "source": [],
      "metadata": {
        "id": "o1bFNryXxdBU"
      },
      "execution_count": 11,
      "outputs": []
    },
    {
      "cell_type": "markdown",
      "source": [
        "#### FUNCTIONS TO GET INFO FROM OUTPUT"
      ],
      "metadata": {
        "id": "lzEeDJ4gyGw7"
      }
    },
    {
      "cell_type": "markdown",
      "source": [
        "**Get left / right split**"
      ],
      "metadata": {
        "id": "1VFb1cN4CbzD"
      }
    },
    {
      "cell_type": "code",
      "source": [
        "def get_split(scraps):\n",
        "    left_side = []\n",
        "    right_side = []\n",
        "\n",
        "    for i in scraps:\n",
        "      if side[i].X == 0:\n",
        "        left_side.append(i)\n",
        "      else:\n",
        "        right_side.append(i)\n",
        "\n",
        "    return left_side, right_side\n"
      ],
      "metadata": {
        "id": "ZHLQijuSCh3K"
      },
      "execution_count": 12,
      "outputs": []
    },
    {
      "cell_type": "code",
      "source": [],
      "metadata": {
        "id": "1gYzfEuQYJ4u"
      },
      "execution_count": 12,
      "outputs": []
    },
    {
      "cell_type": "markdown",
      "source": [
        "**Get length of yard side**"
      ],
      "metadata": {
        "id": "wed3C8-iyW-I"
      }
    },
    {
      "cell_type": "code",
      "source": [
        "def compute_side_length(side):\n",
        "    length = 20*2 + 1.7\n",
        "    for scrap in side:\n",
        "      length += box_width_dict[scrap] + 1.7\n",
        "\n",
        "    return length"
      ],
      "metadata": {
        "id": "67DFZKQGYJw_"
      },
      "execution_count": 13,
      "outputs": []
    },
    {
      "cell_type": "code",
      "source": [
        "def compute_yard_length(L, R):\n",
        "\n",
        "    return max(compute_side_length(L), compute_side_length(R))"
      ],
      "metadata": {
        "id": "lsXIT1EBYNNu"
      },
      "execution_count": 14,
      "outputs": []
    },
    {
      "cell_type": "code",
      "source": [],
      "metadata": {
        "id": "cdbUdtdoxhJR"
      },
      "execution_count": 14,
      "outputs": []
    },
    {
      "cell_type": "markdown",
      "metadata": {
        "id": "X1Ht8G_yhkf3"
      },
      "source": [
        "  #### MODEL FORMULATION"
      ]
    },
    {
      "cell_type": "markdown",
      "metadata": {
        "id": "kTpKPockcers"
      },
      "source": [
        "##### Sets"
      ]
    },
    {
      "cell_type": "markdown",
      "metadata": {
        "id": "WWt3AUThcers"
      },
      "source": [
        "$S$ is the set of scrap types\n",
        "\n",
        "$A$ is the set of layers to be balanced"
      ]
    },
    {
      "cell_type": "markdown",
      "metadata": {
        "id": "1RdYXEemcers"
      },
      "source": [
        "##### Parameters"
      ]
    },
    {
      "cell_type": "markdown",
      "metadata": {
        "id": "lfE5_TlVcert"
      },
      "source": [
        "- For each scrap type $s \\in S$ we are given its layer, $P_s$.\n",
        "- For each scrap type $s \\in S$ we are given the width of the box containing the scrap, $w_s$."
      ]
    },
    {
      "cell_type": "markdown",
      "metadata": {
        "id": "qCitO39hcert"
      },
      "source": [
        "##### Variables"
      ]
    },
    {
      "cell_type": "markdown",
      "metadata": {
        "id": "QU_2Vqxzcert"
      },
      "source": [
        "For each scrap type $s \\in S$:\n",
        "- $y_s$ is a binary variable that equals $0$ if $s$ is in the left side of the yard and $1$ is it is on the right side of the yard\n",
        "\n",
        "For each layer $a \\in A$:\n",
        "- $L_a$ is a continuous variable that represents the sum of the widths of the boxes of layer $a$ on the left side of the yard (including walls)\n",
        "- $R_a$ is a continuous variable that represents the sum of the widths of the boxes of layer $a$ on the right side of the yard (including walls)\n",
        "- $D_a$ is a continuous (and possibly negative) variable that represents the difference between $L_a$ and $R_a$\n",
        "\n",
        "And also:\n",
        "- $L$ is a continuous variable that represents the total length of the left side of the yard (walls and technical areas included)\n",
        "- $R$ is a continuous variable that represents the total length of the right side of the yard (walls and technical areas included)\n",
        "- $D$ is a continuous (and possibly negative) variable that represents the difference between $L$ and $R$\n",
        "- $C$ is a continuous (and possibly negative) variable that represents the sum of the absolute values of $D_a$"
      ]
    },
    {
      "cell_type": "markdown",
      "metadata": {
        "id": "N-CaNouJcert"
      },
      "source": [
        "##### Objective function"
      ]
    },
    {
      "cell_type": "markdown",
      "metadata": {
        "id": "2hleYK8Zcert"
      },
      "source": [
        "(1) The objective is to minimize the difference between the total length of the left and right sides of the yard. This can be stated as\n",
        "\n",
        "$$\\min |D|$$\n",
        "\n",
        "(2a) The objective is, first, to minimize the difference between the total length of the left and right sides of the yard and, second, to minimize the difference between the total length on the left and on the right for the layers in A. This can be stated as\n",
        "1.   $\\min |D|$\n",
        "2.   $\\min \\big(|D_1|+|D_4|+|D_5|+|D_6|+|D_7|\\big)$\n",
        "\n",
        "(2b) The objective is, first, to minimize the difference between the total length of the left and right sides of the yard for the layers in A and, second, to minimize the difference between the total length on the left and on the right. This can be stated as\n",
        "1.   $\\min \\big(|D_1|+|D_4|+|D_5|+|D_6|+|D_7|\\big)$\n",
        "2.   $\\min |D|$\n",
        "\n",
        "(3) The objective is to minimize the difference between the total length of the left and right sides of the yard with weight $\\alpha$ and the difference between the left and right side within boxes of layer 1, 4, 5, 6 and 7 with weight $1-\\alpha$. This can be stated as\n",
        "\n",
        "$$\\min \\big(\\alpha |D| + (1-\\alpha)(|D_1|+|D_4|+|D_5|+|D_6|+|D_7|)\\big)$$\n",
        "\n"
      ]
    },
    {
      "cell_type": "markdown",
      "metadata": {
        "id": "DgnxflZuceru"
      },
      "source": [
        "##### Constraints"
      ]
    },
    {
      "cell_type": "markdown",
      "metadata": {
        "id": "F7nbTXYpceru"
      },
      "source": [
        "- For each $a \\in A$, the sum of the widths of the boxes of layer $a$ on the left side of the yard: $$L_a = 1.7 + \\sum_{s \\in S, \\, P_s=a} (w_s + 1.7) (1-y_s)$$\n",
        "- For each $a \\in A$, the sum of the widths of the boxes of layer $a$ on the right side of the yard: $$R_a = 1.7 + \\sum_{s \\in S, \\, P_s=a} (w_s + 1.7) y_s$$\n",
        "- For each $a \\in A$, the difference between the sum of the widths of the boxes of layer $a$ on the left and on the right side of the yard: $$D_a = L_a - R_a$$\n",
        "- The sum of the absolute values:$$C = |D_1|+|D_4|+|D_5|+|D_6|+|D_7|$$\n",
        "- The total length of the left side of the yard: $$L = 2\\times 20 + 1.7 + \\sum_{s \\in S} (w_s + 1.7) (1-y_s)$$\n",
        "- The total length of the right side of the yard: $$R = 2\\times 20 + 1.7 + \\sum_{s \\in S} (w_s + 1.7) y_s$$\n",
        "- The difference between the sum of the widths of the boxes on the left and on the right side of the yard: $$D = L - R$$"
      ]
    },
    {
      "cell_type": "markdown",
      "metadata": {
        "id": "MC_SbL_Cceru"
      },
      "source": [
        "#### MODEL IMPLEMENTATION"
      ]
    },
    {
      "cell_type": "code",
      "source": [
        "!pip install gurobipy\n",
        "import gurobipy as gp"
      ],
      "metadata": {
        "colab": {
          "base_uri": "https://localhost:8080/",
          "height": 0
        },
        "id": "CQUGAUuacvpp",
        "outputId": "e5509f6f-d798-4221-dc9f-70264de56fc0"
      },
      "execution_count": 15,
      "outputs": [
        {
          "output_type": "stream",
          "name": "stdout",
          "text": [
            "Requirement already satisfied: gurobipy in /usr/local/lib/python3.11/dist-packages (12.0.2)\n"
          ]
        }
      ]
    },
    {
      "cell_type": "code",
      "execution_count": 16,
      "metadata": {
        "id": "KePbV1CSceru"
      },
      "outputs": [],
      "source": [
        "from gurobipy import *\n",
        "from gurobipy import GRB"
      ]
    },
    {
      "cell_type": "code",
      "source": [
        "# Create an environment with your WLS license\n",
        "params = {\n",
        "\"WLSACCESSID\": '2a70f88e-2ab9-4842-a69f-76e476aadfc7',\n",
        "\"WLSSECRET\": 'afe42e0c-dc70-4454-8e74-3b301761961e',\n",
        "\"LICENSEID\": 2619152,\n",
        "}\n",
        "env = gp.Env(params=params)\n",
        "\n",
        "# Create the model within the Gurobi environment\n",
        "model = gp.Model(env=env)"
      ],
      "metadata": {
        "colab": {
          "base_uri": "https://localhost:8080/",
          "height": 0
        },
        "id": "GWJbPbkTYR2Q",
        "outputId": "4b15deed-255e-4ad4-9ea2-96261a15cc8b"
      },
      "execution_count": 17,
      "outputs": [
        {
          "output_type": "stream",
          "name": "stdout",
          "text": [
            "Set parameter WLSAccessID\n",
            "Set parameter WLSSecret\n",
            "Set parameter LicenseID to value 2619152\n",
            "Academic license 2619152 - for non-commercial use only - registered to fi___@isel.pt\n"
          ]
        }
      ]
    },
    {
      "cell_type": "code",
      "source": [
        "start_time = datetime.now()"
      ],
      "metadata": {
        "id": "LXS9pyc0Fq4D"
      },
      "execution_count": 18,
      "outputs": []
    },
    {
      "cell_type": "markdown",
      "metadata": {
        "id": "sZZoFpHmceru"
      },
      "source": [
        "##### Sets"
      ]
    },
    {
      "cell_type": "code",
      "execution_count": 19,
      "metadata": {
        "id": "lm9opmABcerv"
      },
      "outputs": [],
      "source": [
        "S = range(32)\n",
        "A = [1, 4, 5, 6, 7]"
      ]
    },
    {
      "cell_type": "markdown",
      "metadata": {
        "id": "7YRfdBCacerv"
      },
      "source": [
        "##### Parameters"
      ]
    },
    {
      "cell_type": "markdown",
      "source": [
        "Values for parameter $P_s$ (layer of scrap type $s \\in S$):"
      ],
      "metadata": {
        "id": "VfHhuk_K-Y-C"
      }
    },
    {
      "cell_type": "code",
      "source": [
        "scrap_layer = {s:scrap_layer_dict[s] for s in S}\n",
        "#scrap_layer"
      ],
      "metadata": {
        "id": "3IH3l9K--d9x"
      },
      "execution_count": 20,
      "outputs": []
    },
    {
      "cell_type": "markdown",
      "metadata": {
        "id": "vadtPosNcerv"
      },
      "source": [
        "Values for parameter $w_s$ (width of box containing scrap type $s \\in S$):"
      ]
    },
    {
      "cell_type": "code",
      "execution_count": 21,
      "metadata": {
        "id": "w4q4MUcRcerv"
      },
      "outputs": [],
      "source": [
        "box_width = {s:box_width_dict[s] for s in S}\n",
        "#box_width"
      ]
    },
    {
      "cell_type": "markdown",
      "metadata": {
        "id": "Go223Kdzcerz"
      },
      "source": [
        "##### Variables"
      ]
    },
    {
      "cell_type": "markdown",
      "source": [
        "For each scrap type, create a variable `side` ($y_s$):"
      ],
      "metadata": {
        "id": "UfJCYR3Y4AIN"
      }
    },
    {
      "cell_type": "code",
      "source": [
        "side = model.addVars(S, vtype=GRB.BINARY, name=\"side\")"
      ],
      "metadata": {
        "id": "J_J52kBD36NC"
      },
      "execution_count": 22,
      "outputs": []
    },
    {
      "cell_type": "markdown",
      "source": [
        "For each layer in $A$, create a variable `left` ($L_a$):"
      ],
      "metadata": {
        "id": "GEmpscImZkR_"
      }
    },
    {
      "cell_type": "code",
      "source": [
        "left = model.addVars(A, name=\"left\")"
      ],
      "metadata": {
        "id": "ynRE-cr-akwk"
      },
      "execution_count": 23,
      "outputs": []
    },
    {
      "cell_type": "markdown",
      "source": [
        "For each layer in $A$, create a variable `right` ($R_a$):"
      ],
      "metadata": {
        "id": "2_fP7opqafOh"
      }
    },
    {
      "cell_type": "code",
      "source": [
        "right = model.addVars(A, name=\"right\")"
      ],
      "metadata": {
        "id": "drpyeRRyarp9"
      },
      "execution_count": 24,
      "outputs": []
    },
    {
      "cell_type": "markdown",
      "source": [
        "For each layer in $A$, create a variable `LRdiff` ($D_a$):"
      ],
      "metadata": {
        "id": "jQFjWCY2a6wk"
      }
    },
    {
      "cell_type": "code",
      "source": [
        "LRdiff = model.addVars(A, lb=-gp.GRB.INFINITY, name=\"LRdiff\")"
      ],
      "metadata": {
        "id": "TWfJRaV4bEcf"
      },
      "execution_count": 25,
      "outputs": []
    },
    {
      "cell_type": "markdown",
      "source": [
        "For each layer in $A$, create variable `absLRdiff` for the absolute value of difference of $D_a$:"
      ],
      "metadata": {
        "id": "HQha1MM5bdMc"
      }
    },
    {
      "cell_type": "code",
      "source": [
        "absLRdiff = model.addVars(A, name=\"absLRdiff\")"
      ],
      "metadata": {
        "id": "9ek6PGu8c7bm"
      },
      "execution_count": 26,
      "outputs": []
    },
    {
      "cell_type": "markdown",
      "source": [
        "For the sum of the absolute value of the $D_a$ with $a \\in A$, create variable `C` ($C$):"
      ],
      "metadata": {
        "id": "vGLmhbxefMA5"
      }
    },
    {
      "cell_type": "code",
      "source": [
        "C = model.addVar(name=\"C\")"
      ],
      "metadata": {
        "id": "3wfAxuH6fgB0"
      },
      "execution_count": 27,
      "outputs": []
    },
    {
      "cell_type": "markdown",
      "source": [
        "For the total length of the left side of the yard, create variable `L` ($L$):"
      ],
      "metadata": {
        "id": "s9VO-Fv4ZWIw"
      }
    },
    {
      "cell_type": "code",
      "source": [
        "L = model.addVar(name=\"L\")"
      ],
      "metadata": {
        "id": "NPj5fE5OYpms"
      },
      "execution_count": 28,
      "outputs": []
    },
    {
      "cell_type": "markdown",
      "source": [
        "For the total length of the right side of the yard, create variable `R` ($R$):"
      ],
      "metadata": {
        "id": "PIimNXCjZkK9"
      }
    },
    {
      "cell_type": "code",
      "source": [
        "R = model.addVar(name=\"R\")"
      ],
      "metadata": {
        "id": "1KU3vID_YtE_"
      },
      "execution_count": 29,
      "outputs": []
    },
    {
      "cell_type": "markdown",
      "source": [
        "For the difference between $L$ and $R$, create variable `D` ($D$):"
      ],
      "metadata": {
        "id": "j_3ePvZe_eXT"
      }
    },
    {
      "cell_type": "code",
      "source": [
        "D = model.addVar(lb=-gp.GRB.INFINITY, name=\"D\")"
      ],
      "metadata": {
        "id": "Ih9r6nRFYthx"
      },
      "execution_count": 30,
      "outputs": []
    },
    {
      "cell_type": "markdown",
      "source": [
        "For the absolute value of difference between $L$ and $R$, create variable `absD`:\n"
      ],
      "metadata": {
        "id": "g65NPjcGBgTB"
      }
    },
    {
      "cell_type": "code",
      "source": [
        "absD = model.addVar(name=\"absD\")"
      ],
      "metadata": {
        "id": "8tNmNlheBxoL"
      },
      "execution_count": 31,
      "outputs": []
    },
    {
      "cell_type": "markdown",
      "metadata": {
        "id": "Fdsu0yuEcer1"
      },
      "source": [
        "##### Constraints"
      ]
    },
    {
      "cell_type": "code",
      "source": [
        "for a in A:\n",
        "  model.addConstr((1.7 + sum([(box_width[s] + 1.7)*(1-side[s]) for s in S if scrap_layer[s] == a]) == left[a]), name=\"L\")\n",
        "  model.addConstr((1.7 + sum([(box_width[s] + 1.7)*side[s] for s in S if scrap_layer[s] == a]) == right[a]), name=\"R\")\n",
        "  model.addConstr(LRdiff[a] == left[a] - right[a], name=\"LRdiff\")\n",
        "  model.addConstr(absLRdiff[a] == abs_(LRdiff[a]), name=\"absLRdiff\");"
      ],
      "metadata": {
        "id": "VXgsGCNAiF8j"
      },
      "execution_count": 32,
      "outputs": []
    },
    {
      "cell_type": "code",
      "source": [
        "model.addConstr(( sum(absLRdiff[a] for a in A) ) == C, name=\"C\");"
      ],
      "metadata": {
        "id": "p78Td44skN-P"
      },
      "execution_count": 33,
      "outputs": []
    },
    {
      "cell_type": "code",
      "execution_count": 34,
      "metadata": {
        "id": "C_H9LL53cer2"
      },
      "outputs": [],
      "source": [
        "model.addConstr((20*2 + 1.7 + sum([(box_width[s] + 1.7)*(1-side[s]) for s in S]) == L), name=\"totallengthL\")\n",
        "\n",
        "model.addConstr((20*2 + 1.7 + sum([(box_width[s] + 1.7)*side[s] for s in S]) == R), name=\"totallengthR\");"
      ]
    },
    {
      "cell_type": "code",
      "execution_count": 35,
      "metadata": {
        "id": "kJqJnEfGcer2"
      },
      "outputs": [],
      "source": [
        "model.addConstr(D == L - R, name=\"D\")\n",
        "model.addConstr(absD == abs_(D), name=\"adsC\");"
      ]
    },
    {
      "cell_type": "markdown",
      "metadata": {
        "id": "JVkHM8q9cer1"
      },
      "source": [
        "##### Objective function"
      ]
    },
    {
      "cell_type": "code",
      "source": [
        "%%skip\n",
        "\n",
        "# version (1)\n",
        "\n",
        "model.setObjective(absD, GRB.MINIMIZE)"
      ],
      "metadata": {
        "id": "U6gieLWIpKb7"
      },
      "execution_count": 36,
      "outputs": []
    },
    {
      "cell_type": "code",
      "source": [
        "%%skip\n",
        "\n",
        "# version (2a)\n",
        "\n",
        "# Primary objective: |D|\n",
        "model.setObjectiveN(absD, index=0, priority=1)\n",
        "# Secondary objective: C\n",
        "model.setObjectiveN(C, index=1, priority=0)"
      ],
      "metadata": {
        "id": "8bYCPwGGpbRH"
      },
      "execution_count": 37,
      "outputs": []
    },
    {
      "cell_type": "code",
      "source": [
        "%%skip\n",
        "\n",
        "# version (2b)\n",
        "\n",
        "# Primary objective: C\n",
        "model.setObjectiveN(C, index=0, priority=1)\n",
        "# Secondary objective: |D|\n",
        "model.setObjectiveN(absD, index=1, priority=0)"
      ],
      "metadata": {
        "id": "nLopzmf4pkqu"
      },
      "execution_count": 38,
      "outputs": []
    },
    {
      "cell_type": "code",
      "execution_count": 39,
      "metadata": {
        "id": "kv9gZa17cer1"
      },
      "outputs": [],
      "source": [
        "#%%skip\n",
        "\n",
        "# version (3)\n",
        "\n",
        "alpha = 0.5\n",
        "\n",
        "model.setObjective(alpha*absD + (1-alpha)*C, GRB.MINIMIZE)"
      ]
    },
    {
      "cell_type": "code",
      "source": [],
      "metadata": {
        "id": "FihOeMbtuxE8"
      },
      "execution_count": 39,
      "outputs": []
    },
    {
      "cell_type": "markdown",
      "metadata": {
        "id": "bddxXA5ecer3"
      },
      "source": [
        "##### Solve model"
      ]
    },
    {
      "cell_type": "code",
      "source": [
        "# Optimize\n",
        "model.optimize()\n",
        "\n",
        "# do IIS if the model is infeasible\n",
        "if model.Status == GRB.INFEASIBLE:\n",
        "    model.computeIIS()"
      ],
      "metadata": {
        "colab": {
          "base_uri": "https://localhost:8080/",
          "height": 0
        },
        "id": "wNjg2HNGxcNe",
        "outputId": "c24e695c-bbd9-46a3-9da1-1ff49033ce7b"
      },
      "execution_count": 40,
      "outputs": [
        {
          "output_type": "stream",
          "name": "stdout",
          "text": [
            "Gurobi Optimizer version 12.0.2 build v12.0.2rc0 (linux64 - \"Ubuntu 22.04.4 LTS\")\n",
            "\n",
            "CPU model: Intel(R) Xeon(R) CPU @ 2.20GHz, instruction set [SSE2|AVX|AVX2]\n",
            "Thread count: 1 physical cores, 2 logical processors, using up to 2 threads\n",
            "\n",
            "Academic license 2619152 - for non-commercial use only - registered to fi___@isel.pt\n",
            "Optimize a model with 19 rows, 57 columns and 158 nonzeros\n",
            "Model fingerprint: 0x0dd0e5c2\n",
            "Model has 6 simple general constraints\n",
            "  6 ABS\n",
            "Variable types: 25 continuous, 32 integer (32 binary)\n",
            "Coefficient statistics:\n",
            "  Matrix range     [1e+00, 7e+01]\n",
            "  Objective range  [5e-01, 5e-01]\n",
            "  Bounds range     [1e+00, 1e+00]\n",
            "  RHS range        [2e+00, 9e+02]\n",
            "Presolve removed 1 rows and 20 columns\n",
            "Presolve time: 0.00s\n",
            "Presolved: 18 rows, 37 columns, 74 nonzeros\n",
            "Variable types: 0 continuous, 37 integer (21 binary)\n",
            "Found heuristic solution: objective 797.2500000\n",
            "Found heuristic solution: objective 779.5500000\n",
            "Found heuristic solution: objective 773.8500000\n",
            "Found heuristic solution: objective 765.0500000\n",
            "Found heuristic solution: objective 747.3500000\n",
            "\n",
            "Root relaxation: objective 8.000000e-01, 17 iterations, 0.00 seconds (0.00 work units)\n",
            "\n",
            "    Nodes    |    Current Node    |     Objective Bounds      |     Work\n",
            " Expl Unexpl |  Obj  Depth IntInf | Incumbent    BestBd   Gap | It/Node Time\n",
            "\n",
            "     0     0    0.80000    0    6  747.35000    0.80000   100%     -    0s\n",
            "H    0     0                      33.4500000    0.80000  97.6%     -    0s\n",
            "     0     0    1.32204    0   12   33.45000    1.32204  96.0%     -    0s\n",
            "     0     0    1.33385    0    8   33.45000    1.33385  96.0%     -    0s\n",
            "H    0     0                      30.4500000    1.33385  95.6%     -    0s\n",
            "     0     0    1.33385    0    8   30.45000    1.33385  95.6%     -    0s\n",
            "     0     0    1.75514    0   14   30.45000    1.75514  94.2%     -    0s\n",
            "H    0     0                      30.0500000    1.75542  94.2%     -    0s\n",
            "     0     0    2.47028    0   11   30.05000    2.47028  91.8%     -    0s\n",
            "     0     0    2.47028    0   13   30.05000    2.47028  91.8%     -    0s\n",
            "     0     0    2.71688    0   16   30.05000    2.71688  91.0%     -    0s\n",
            "     0     0    2.79289    0   12   30.05000    2.79289  90.7%     -    0s\n",
            "     0     0    2.79289    0   14   30.05000    2.79289  90.7%     -    0s\n",
            "     0     0    2.79289    0   16   30.05000    2.79289  90.7%     -    0s\n",
            "     0     0    2.79289    0   18   30.05000    2.79289  90.7%     -    0s\n",
            "     0     0    2.79853    0   18   30.05000    2.79853  90.7%     -    0s\n",
            "     0     0    3.26633    0   20   30.05000    3.26633  89.1%     -    0s\n",
            "H    0     0                      29.1500000    3.38646  88.4%     -    0s\n",
            "H    0     0                      24.3500000    3.38646  86.1%     -    0s\n",
            "     0     0    3.38646    0   23   24.35000    3.38646  86.1%     -    0s\n",
            "     0     0    3.38646    0   20   24.35000    3.38646  86.1%     -    0s\n",
            "     0     0    3.38646    0   21   24.35000    3.38646  86.1%     -    0s\n",
            "     0     0    3.45484    0   18   24.35000    3.45484  85.8%     -    0s\n",
            "     0     0    3.46052    0   15   24.35000    3.46052  85.8%     -    0s\n",
            "H    0     0                      11.1500000    3.46052  69.0%     -    0s\n",
            "     0     0    3.54561    0   19   11.15000    3.54561  68.2%     -    0s\n",
            "     0     0    3.59052    0   19   11.15000    3.59052  67.8%     -    0s\n",
            "     0     0    3.59052    0   20   11.15000    3.59052  67.8%     -    0s\n",
            "     0     0    3.76817    0   20   11.15000    3.76817  66.2%     -    0s\n",
            "H    0     0                       8.6500000    3.76817  56.4%     -    0s\n",
            "     0     0    3.82106    0   22    8.65000    3.82106  55.8%     -    0s\n",
            "     0     0    3.82350    0   22    8.65000    3.82350  55.8%     -    0s\n",
            "     0     0    3.82570    0   24    8.65000    3.82570  55.8%     -    0s\n",
            "     0     0    3.82570    0   25    8.65000    3.82570  55.8%     -    0s\n",
            "     0     0    3.82932    0   24    8.65000    3.82932  55.7%     -    0s\n",
            "     0     0    3.83729    0   25    8.65000    3.83729  55.6%     -    0s\n",
            "     0     0    3.86090    0   24    8.65000    3.86090  55.4%     -    0s\n",
            "     0     0    3.86147    0   25    8.65000    3.86147  55.4%     -    0s\n",
            "     0     0    3.87567    0   23    8.65000    3.87567  55.2%     -    0s\n",
            "     0     0    3.90636    0   23    8.65000    3.90636  54.8%     -    0s\n",
            "     0     0    3.90689    0   23    8.65000    3.90689  54.8%     -    0s\n",
            "     0     0    3.97723    0   24    8.65000    3.97723  54.0%     -    0s\n",
            "     0     0    3.98740    0   23    8.65000    3.98740  53.9%     -    0s\n",
            "     0     0    3.98860    0   24    8.65000    3.98860  53.9%     -    0s\n",
            "     0     0    3.98860    0   24    8.65000    3.98860  53.9%     -    0s\n",
            "     0     0    4.04313    0   21    8.65000    4.04313  53.3%     -    0s\n",
            "H    0     0                       8.2500000    4.04313  51.0%     -    0s\n",
            "     0     0    4.04542    0   24    8.25000    4.04542  51.0%     -    0s\n",
            "     0     0    4.04546    0   22    8.25000    4.04546  51.0%     -    0s\n",
            "     0     0    4.05581    0   23    8.25000    4.05581  50.8%     -    0s\n",
            "     0     0    4.05581    0   23    8.25000    4.05581  50.8%     -    0s\n",
            "     0     0    4.05581    0   20    8.25000    4.05581  50.8%     -    0s\n",
            "     0     0    4.05581    0   23    8.25000    4.05581  50.8%     -    0s\n",
            "     0     0    4.05581    0   22    8.25000    4.05581  50.8%     -    0s\n",
            "     0     0    4.05581    0   24    8.25000    4.05581  50.8%     -    0s\n",
            "     0     0    4.05581    0   19    8.25000    4.05581  50.8%     -    0s\n",
            "     0     0    4.05581    0   19    8.25000    4.05581  50.8%     -    0s\n",
            "     0     1    4.11142    0   19    8.25000    4.11142  50.2%     -    0s\n",
            "H   11     7                       6.6500000    4.95000  25.6%   1.3    0s\n",
            "\n",
            "Cutting planes:\n",
            "  Gomory: 2\n",
            "  Cover: 17\n",
            "  MIR: 47\n",
            "  StrongCG: 11\n",
            "  Inf proof: 2\n",
            "  Zero half: 1\n",
            "  Mod-K: 2\n",
            "  Relax-and-lift: 2\n",
            "\n",
            "Explored 230 nodes (1372 simplex iterations) in 0.41 seconds (0.02 work units)\n",
            "Thread count was 2 (of 2 available processors)\n",
            "\n",
            "Solution count 10: 6.65 8.25 8.65 ... 747.35\n",
            "\n",
            "Optimal solution found (tolerance 1.00e-04)\n",
            "Best objective 6.650000000000e+00, best bound 6.650000000000e+00, gap 0.0000%\n"
          ]
        }
      ]
    },
    {
      "cell_type": "code",
      "source": [
        "end_time = datetime.now()\n",
        "runtime = (end_time - start_time).total_seconds()\n",
        "print('Runtime (sec): {}'.format(runtime))"
      ],
      "metadata": {
        "colab": {
          "base_uri": "https://localhost:8080/",
          "height": 0
        },
        "id": "I5d4Nt5eFvOL",
        "outputId": "16f83f6b-82e6-4de4-9508-f060d938daae"
      },
      "execution_count": 41,
      "outputs": [
        {
          "output_type": "stream",
          "name": "stdout",
          "text": [
            "Runtime (sec): 0.673448\n"
          ]
        }
      ]
    },
    {
      "cell_type": "code",
      "source": [
        "print('\\nModel output for Split 3 0.5')"
      ],
      "metadata": {
        "colab": {
          "base_uri": "https://localhost:8080/",
          "height": 0
        },
        "id": "CWGF4CGeHEDJ",
        "outputId": "28b97836-9348-4841-d8c8-efd2a755940f"
      },
      "execution_count": 42,
      "outputs": [
        {
          "output_type": "stream",
          "name": "stdout",
          "text": [
            "\n",
            "Model output for Split 3 0.5\n"
          ]
        }
      ]
    },
    {
      "cell_type": "code",
      "source": [
        "# Print the values of all variables\n",
        "for v in model.getVars():\n",
        "    print(f\"{v.VarName} = {v.X}\")"
      ],
      "metadata": {
        "colab": {
          "base_uri": "https://localhost:8080/",
          "height": 0
        },
        "id": "MkTM6cNu5moD",
        "outputId": "582f18f9-59d5-4932-b1c3-09dcb5ec0af5"
      },
      "execution_count": 43,
      "outputs": [
        {
          "output_type": "stream",
          "name": "stdout",
          "text": [
            "side[0] = -0.0\n",
            "side[1] = 1.0\n",
            "side[2] = -0.0\n",
            "side[3] = 1.0\n",
            "side[4] = 1.0\n",
            "side[5] = 1.0\n",
            "side[6] = -0.0\n",
            "side[7] = 1.0\n",
            "side[8] = -0.0\n",
            "side[9] = 0.0\n",
            "side[10] = 0.0\n",
            "side[11] = 0.0\n",
            "side[12] = -0.0\n",
            "side[13] = 1.0\n",
            "side[14] = -0.0\n",
            "side[15] = 0.0\n",
            "side[16] = 1.0\n",
            "side[17] = 1.0\n",
            "side[18] = 1.0\n",
            "side[19] = 1.0\n",
            "side[20] = 0.0\n",
            "side[21] = 1.0\n",
            "side[22] = 1.0\n",
            "side[23] = 0.0\n",
            "side[24] = -0.0\n",
            "side[25] = 1.0\n",
            "side[26] = 1.0\n",
            "side[27] = 1.0\n",
            "side[28] = -0.0\n",
            "side[29] = 1.0\n",
            "side[30] = 1.0\n",
            "side[31] = 0.0\n",
            "left[1] = 114.6\n",
            "left[4] = 65.7\n",
            "left[5] = 47.0\n",
            "left[6] = 77.5\n",
            "left[7] = 94.8\n",
            "right[1] = 117.0\n",
            "right[4] = 64.5\n",
            "right[5] = 45.4\n",
            "right[6] = 71.0\n",
            "right[7] = 96.2\n",
            "LRdiff[1] = -2.4\n",
            "LRdiff[4] = 1.2\n",
            "LRdiff[5] = 1.6\n",
            "LRdiff[6] = 6.5\n",
            "LRdiff[7] = -1.4\n",
            "absLRdiff[1] = 2.4\n",
            "absLRdiff[4] = 1.2\n",
            "absLRdiff[5] = 1.6\n",
            "absLRdiff[6] = 6.5\n",
            "absLRdiff[7] = 1.4\n",
            "C = 13.1\n",
            "L = 450.5\n",
            "R = 450.7\n",
            "D = -0.2\n",
            "absD = 0.2\n"
          ]
        }
      ]
    },
    {
      "cell_type": "code",
      "source": [
        "left_side, right_side = get_split(S)\n",
        "print(f'Scraps on left side: {left_side}')\n",
        "print(f'Scraps on right side: {right_side}')"
      ],
      "metadata": {
        "colab": {
          "base_uri": "https://localhost:8080/",
          "height": 0
        },
        "id": "A9Zak1EEyhen",
        "outputId": "912cb50e-b887-4d22-f901-7e61f0f0571a"
      },
      "execution_count": 44,
      "outputs": [
        {
          "output_type": "stream",
          "name": "stdout",
          "text": [
            "Scraps on left side: [0, 2, 6, 8, 9, 10, 11, 12, 14, 15, 20, 23, 24, 28, 31]\n",
            "Scraps on right side: [1, 3, 4, 5, 7, 13, 16, 17, 18, 19, 21, 22, 25, 26, 27, 29, 30]\n"
          ]
        }
      ]
    },
    {
      "cell_type": "code",
      "source": [
        "print(f'Length of left side: {round(compute_side_length(left_side), 2)}')\n",
        "print(f'Length of right side: {round(compute_side_length(right_side), 2)}')"
      ],
      "metadata": {
        "colab": {
          "base_uri": "https://localhost:8080/",
          "height": 0
        },
        "id": "LuPawAmfypTH",
        "outputId": "c373d295-625a-4f63-ca47-f7888e9d9e40"
      },
      "execution_count": 45,
      "outputs": [
        {
          "output_type": "stream",
          "name": "stdout",
          "text": [
            "Length of left side: 450.5\n",
            "Length of right side: 450.7\n"
          ]
        }
      ]
    },
    {
      "cell_type": "code",
      "source": [
        "print(f'Layer unevenness: {C.X}')"
      ],
      "metadata": {
        "colab": {
          "base_uri": "https://localhost:8080/",
          "height": 0
        },
        "id": "myYZtaT-0cnK",
        "outputId": "aa5620a1-b2cb-4ea4-aa24-f62523b4adc7"
      },
      "execution_count": 46,
      "outputs": [
        {
          "output_type": "stream",
          "name": "stdout",
          "text": [
            "Layer unevenness: 13.1\n"
          ]
        }
      ]
    },
    {
      "cell_type": "code",
      "source": [],
      "metadata": {
        "id": "VU7eK-ZnYAJH"
      },
      "execution_count": 46,
      "outputs": []
    },
    {
      "cell_type": "code",
      "source": [],
      "metadata": {
        "id": "xQkXA9vZ2Stx"
      },
      "execution_count": 46,
      "outputs": []
    }
  ],
  "metadata": {
    "colab": {
      "provenance": [],
      "toc_visible": true
    },
    "kernelspec": {
      "display_name": "Python 3 (ipykernel)",
      "language": "python",
      "name": "python3"
    },
    "language_info": {
      "codemirror_mode": {
        "name": "ipython",
        "version": 3
      },
      "file_extension": ".py",
      "mimetype": "text/x-python",
      "name": "python",
      "nbconvert_exporter": "python",
      "pygments_lexer": "ipython3",
      "version": "3.10.12"
    }
  },
  "nbformat": 4,
  "nbformat_minor": 0
}